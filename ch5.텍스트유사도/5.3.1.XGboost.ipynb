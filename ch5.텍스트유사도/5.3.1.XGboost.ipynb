{
 "cells": [
  {
   "cell_type": "markdown",
   "metadata": {},
   "source": [
    "# XGboost\n",
    "- 부스팅\n",
    "    - 앙상블 기법 중 하나로 여러개의 알고리즘을 학습, 각 결과를 순차적으로 취합하는데, 단순히 하나씩 취합하는 방법이 아니라 이전 알고리즘, 모델이 학습 후 잘못 예측한 부분에 가중치를 줘서 다시 모델로 가서 학습하는 방식\n",
    "- 트리 부스팅\n",
    "    - 여러개의 의사결정 트리를 사용하지만 단순히 결과를 평균 내는 것이 아니라 결과를 보고 오답에 대해 가중치를 부여함\n",
    "    - 그리고 가중치가 적용된 오답에 대해서는 관심을 가지고 정답이 될 수 있도록 결과를 만들고 해당 결과에 대한 다른 오답을 찾아 다시 똑같은 작업을 반복적으로 수행함\n",
    "- XGboost\n",
    "    - 트리 부스팅 방식에 경사하강법을 통해 최적화하는 방법.\n",
    "    - 의사결정 트리를 구성할때 병렬처리를 통해 빠른 시간에 학습이 가능함"
   ]
  },
  {
   "cell_type": "code",
   "execution_count": 1,
   "metadata": {
    "collapsed": true
   },
   "outputs": [],
   "source": [
    "import pandas as pd\n",
    "import numpy as np\n",
    "import os\n",
    "\n",
    "import json\n",
    "\n",
    "from sklearn.model_selection  import train_test_split"
   ]
  },
  {
   "cell_type": "markdown",
   "metadata": {},
   "source": [
    "### 설정된 값들 & 전처리된 데이터 로드"
   ]
  },
  {
   "cell_type": "code",
   "execution_count": 3,
   "metadata": {
    "collapsed": true
   },
   "outputs": [],
   "source": [
    "DATA_IN_PATH = '../dataset/quora/'\n",
    "DATA_OUT_PATH = './data_out/'\n",
    "\n",
    "TRAIN_Q1_DATA_FILE = 'train_q1.npy'\n",
    "TRAIN_Q2_DATA_FILE = 'train_q2.npy'\n",
    "TRAIN_LABEL_DATA_FILE = 'train_label.npy'"
   ]
  },
  {
   "cell_type": "code",
   "execution_count": 4,
   "metadata": {
    "collapsed": true
   },
   "outputs": [],
   "source": [
    "# 훈련 데이터 가져오는 부분이다.\n",
    "train_q1_data = np.load(open(DATA_IN_PATH + TRAIN_Q1_DATA_FILE, 'rb' ))\n",
    "train_q2_data = np.load(open(DATA_IN_PATH + TRAIN_Q2_DATA_FILE, 'rb' ))\n",
    "train_labels = np.load(open(DATA_IN_PATH + TRAIN_LABEL_DATA_FILE, 'rb' ))\n"
   ]
  },
  {
   "cell_type": "code",
   "execution_count": 5,
   "metadata": {
    "collapsed": true
   },
   "outputs": [],
   "source": [
    "train_input = np.stack((train_q1_data, train_q2_data), axis=1) "
   ]
  },
  {
   "cell_type": "code",
   "execution_count": 8,
   "metadata": {},
   "outputs": [
    {
     "data": {
      "text/plain": [
       "array([[   3,   44,    7,   70,    8,  608,   48,    1, 1732, 2174, 8711,\n",
       "           0,    0,    0,    0,    0,    0,    0,    0,    0,    0,    0,\n",
       "           0,    0,    0,    0,    0,    0,    0,    0,    0],\n",
       "       [  16,   21, 2174,  608,  130,  550,   45,    5,  744,  113,    1,\n",
       "        2174,    0,    0,    0,    0,    0,    0,    0,    0,    0,    0,\n",
       "           0,    0,    0,    0,    0,    0,    0,    0,    0]],\n",
       "      dtype=int32)"
      ]
     },
     "execution_count": 8,
     "metadata": {},
     "output_type": "execute_result"
    }
   ],
   "source": [
    "train_input[0]"
   ]
  },
  {
   "cell_type": "code",
   "execution_count": 9,
   "metadata": {},
   "outputs": [
    {
     "data": {
      "text/plain": [
       "(298526, 2, 31)"
      ]
     },
     "execution_count": 9,
     "metadata": {},
     "output_type": "execute_result"
    }
   ],
   "source": [
    "train_input.shape"
   ]
  },
  {
   "cell_type": "markdown",
   "metadata": {},
   "source": [
    "### 훈련 셋과 평가 셋 나누기"
   ]
  },
  {
   "cell_type": "code",
   "execution_count": 10,
   "metadata": {
    "collapsed": true
   },
   "outputs": [],
   "source": [
    "train_input, eval_input, train_label, eval_label = train_test_split(train_input, \n",
    "                                                                    train_labels, \n",
    "                                                                    test_size=0.2, \n",
    "                                                                    random_state=4242)\n",
    "\n"
   ]
  },
  {
   "cell_type": "code",
   "execution_count": 13,
   "metadata": {},
   "outputs": [],
   "source": [
    "import xgboost as xgb"
   ]
  },
  {
   "cell_type": "markdown",
   "metadata": {},
   "source": [
    "### 모델 구성"
   ]
  },
  {
   "cell_type": "code",
   "execution_count": 18,
   "metadata": {
    "collapsed": true
   },
   "outputs": [],
   "source": [
    "# DMatrix 형태로 만들기\n",
    "train_data = xgb.DMatrix(train_input.sum(axis=1), label=train_label) # 학습 데이터 읽어 오기\n",
    "eval_data = xgb.DMatrix(eval_input.sum(axis=1), label=eval_label) # 평가 데이터 읽어 오기\n"
   ]
  },
  {
   "cell_type": "code",
   "execution_count": 17,
   "metadata": {},
   "outputs": [
    {
     "data": {
      "text/plain": [
       "(238820, 31)"
      ]
     },
     "execution_count": 17,
     "metadata": {},
     "output_type": "execute_result"
    }
   ],
   "source": [
    "train_input.sum(axis=1).shape"
   ]
  },
  {
   "cell_type": "code",
   "execution_count": 20,
   "metadata": {
    "collapsed": true
   },
   "outputs": [],
   "source": [
    "data_list = [(train_data, 'train'), (eval_data, 'valid')]"
   ]
  },
  {
   "cell_type": "code",
   "execution_count": 21,
   "metadata": {},
   "outputs": [
    {
     "data": {
      "text/plain": [
       "[(<xgboost.core.DMatrix at 0x1a2b9919b0>, 'train'),\n",
       " (<xgboost.core.DMatrix at 0x1a2b991978>, 'valid')]"
      ]
     },
     "execution_count": 21,
     "metadata": {},
     "output_type": "execute_result"
    }
   ],
   "source": [
    "data_list"
   ]
  },
  {
   "cell_type": "code",
   "execution_count": 22,
   "metadata": {},
   "outputs": [
    {
     "name": "stdout",
     "output_type": "stream",
     "text": [
      "[0]\ttrain-rmse:0.483681\tvalid-rmse:0.484118\n",
      "Multiple eval metrics have been passed: 'valid-rmse' will be used for early stopping.\n",
      "\n",
      "Will train until valid-rmse hasn't improved in 10 rounds.\n",
      "[1]\ttrain-rmse:0.473433\tvalid-rmse:0.474263\n",
      "[2]\ttrain-rmse:0.466983\tvalid-rmse:0.468293\n",
      "[3]\ttrain-rmse:0.462514\tvalid-rmse:0.4639\n",
      "[4]\ttrain-rmse:0.458652\tvalid-rmse:0.460363\n",
      "[5]\ttrain-rmse:0.455964\tvalid-rmse:0.45786\n",
      "[6]\ttrain-rmse:0.453817\tvalid-rmse:0.455901\n",
      "[7]\ttrain-rmse:0.451922\tvalid-rmse:0.454147\n",
      "[8]\ttrain-rmse:0.449551\tvalid-rmse:0.451959\n",
      "[9]\ttrain-rmse:0.448466\tvalid-rmse:0.451044\n",
      "[10]\ttrain-rmse:0.446874\tvalid-rmse:0.449566\n",
      "[11]\ttrain-rmse:0.445932\tvalid-rmse:0.44878\n",
      "[12]\ttrain-rmse:0.445111\tvalid-rmse:0.448133\n",
      "[13]\ttrain-rmse:0.44365\tvalid-rmse:0.446897\n",
      "[14]\ttrain-rmse:0.442939\tvalid-rmse:0.446397\n",
      "[15]\ttrain-rmse:0.44124\tvalid-rmse:0.444814\n",
      "[16]\ttrain-rmse:0.440675\tvalid-rmse:0.444313\n",
      "[17]\ttrain-rmse:0.440265\tvalid-rmse:0.443979\n",
      "[18]\ttrain-rmse:0.439645\tvalid-rmse:0.443501\n",
      "[19]\ttrain-rmse:0.439138\tvalid-rmse:0.443078\n",
      "[20]\ttrain-rmse:0.438811\tvalid-rmse:0.442874\n",
      "[21]\ttrain-rmse:0.438502\tvalid-rmse:0.442659\n",
      "[22]\ttrain-rmse:0.437711\tvalid-rmse:0.442113\n",
      "[23]\ttrain-rmse:0.436151\tvalid-rmse:0.440771\n",
      "[24]\ttrain-rmse:0.435017\tvalid-rmse:0.43972\n",
      "[25]\ttrain-rmse:0.434409\tvalid-rmse:0.439338\n",
      "[26]\ttrain-rmse:0.434069\tvalid-rmse:0.43914\n",
      "[27]\ttrain-rmse:0.433825\tvalid-rmse:0.438953\n",
      "[28]\ttrain-rmse:0.433671\tvalid-rmse:0.438825\n",
      "[29]\ttrain-rmse:0.433395\tvalid-rmse:0.438562\n",
      "[30]\ttrain-rmse:0.4333\tvalid-rmse:0.438501\n",
      "[31]\ttrain-rmse:0.432898\tvalid-rmse:0.438278\n",
      "[32]\ttrain-rmse:0.432198\tvalid-rmse:0.437758\n",
      "[33]\ttrain-rmse:0.431917\tvalid-rmse:0.43757\n",
      "[34]\ttrain-rmse:0.431669\tvalid-rmse:0.437398\n",
      "[35]\ttrain-rmse:0.431353\tvalid-rmse:0.437214\n",
      "[36]\ttrain-rmse:0.431225\tvalid-rmse:0.437139\n",
      "[37]\ttrain-rmse:0.430469\tvalid-rmse:0.436591\n",
      "[38]\ttrain-rmse:0.430364\tvalid-rmse:0.436562\n",
      "[39]\ttrain-rmse:0.430139\tvalid-rmse:0.436423\n",
      "[40]\ttrain-rmse:0.429944\tvalid-rmse:0.436214\n",
      "[41]\ttrain-rmse:0.429553\tvalid-rmse:0.436012\n",
      "[42]\ttrain-rmse:0.42912\tvalid-rmse:0.435756\n",
      "[43]\ttrain-rmse:0.428811\tvalid-rmse:0.43561\n",
      "[44]\ttrain-rmse:0.428714\tvalid-rmse:0.435554\n",
      "[45]\ttrain-rmse:0.428639\tvalid-rmse:0.435494\n",
      "[46]\ttrain-rmse:0.42852\tvalid-rmse:0.43538\n",
      "[47]\ttrain-rmse:0.428362\tvalid-rmse:0.435277\n",
      "[48]\ttrain-rmse:0.428198\tvalid-rmse:0.435222\n",
      "[49]\ttrain-rmse:0.428026\tvalid-rmse:0.435116\n",
      "[50]\ttrain-rmse:0.427894\tvalid-rmse:0.435035\n",
      "[51]\ttrain-rmse:0.427796\tvalid-rmse:0.434975\n",
      "[52]\ttrain-rmse:0.427629\tvalid-rmse:0.434922\n",
      "[53]\ttrain-rmse:0.427371\tvalid-rmse:0.43476\n",
      "[54]\ttrain-rmse:0.427031\tvalid-rmse:0.434572\n",
      "[55]\ttrain-rmse:0.426488\tvalid-rmse:0.434272\n",
      "[56]\ttrain-rmse:0.425975\tvalid-rmse:0.434026\n",
      "[57]\ttrain-rmse:0.425583\tvalid-rmse:0.433876\n",
      "[58]\ttrain-rmse:0.425474\tvalid-rmse:0.433827\n",
      "[59]\ttrain-rmse:0.424894\tvalid-rmse:0.433375\n",
      "[60]\ttrain-rmse:0.424198\tvalid-rmse:0.432903\n",
      "[61]\ttrain-rmse:0.423726\tvalid-rmse:0.432685\n",
      "[62]\ttrain-rmse:0.423622\tvalid-rmse:0.432618\n",
      "[63]\ttrain-rmse:0.423415\tvalid-rmse:0.432555\n",
      "[64]\ttrain-rmse:0.422932\tvalid-rmse:0.432232\n",
      "[65]\ttrain-rmse:0.422784\tvalid-rmse:0.432192\n",
      "[66]\ttrain-rmse:0.422661\tvalid-rmse:0.432166\n",
      "[67]\ttrain-rmse:0.422623\tvalid-rmse:0.432137\n",
      "[68]\ttrain-rmse:0.422366\tvalid-rmse:0.432094\n",
      "[69]\ttrain-rmse:0.422313\tvalid-rmse:0.432078\n",
      "[70]\ttrain-rmse:0.422137\tvalid-rmse:0.432062\n",
      "[71]\ttrain-rmse:0.42203\tvalid-rmse:0.431988\n",
      "[72]\ttrain-rmse:0.421948\tvalid-rmse:0.431933\n",
      "[73]\ttrain-rmse:0.42154\tvalid-rmse:0.431706\n",
      "[74]\ttrain-rmse:0.421197\tvalid-rmse:0.431543\n",
      "[75]\ttrain-rmse:0.421113\tvalid-rmse:0.431538\n",
      "[76]\ttrain-rmse:0.421036\tvalid-rmse:0.431503\n",
      "[77]\ttrain-rmse:0.420959\tvalid-rmse:0.431468\n",
      "[78]\ttrain-rmse:0.420935\tvalid-rmse:0.431453\n",
      "[79]\ttrain-rmse:0.420544\tvalid-rmse:0.431321\n",
      "[80]\ttrain-rmse:0.419984\tvalid-rmse:0.430919\n",
      "[81]\ttrain-rmse:0.419463\tvalid-rmse:0.43056\n",
      "[82]\ttrain-rmse:0.419151\tvalid-rmse:0.43044\n",
      "[83]\ttrain-rmse:0.418989\tvalid-rmse:0.430397\n",
      "[84]\ttrain-rmse:0.418922\tvalid-rmse:0.430363\n",
      "[85]\ttrain-rmse:0.418558\tvalid-rmse:0.430206\n",
      "[86]\ttrain-rmse:0.418425\tvalid-rmse:0.430172\n",
      "[87]\ttrain-rmse:0.418131\tvalid-rmse:0.430075\n",
      "[88]\ttrain-rmse:0.418051\tvalid-rmse:0.430035\n",
      "[89]\ttrain-rmse:0.418\tvalid-rmse:0.430013\n",
      "[90]\ttrain-rmse:0.417633\tvalid-rmse:0.42987\n",
      "[91]\ttrain-rmse:0.417254\tvalid-rmse:0.429605\n",
      "[92]\ttrain-rmse:0.417044\tvalid-rmse:0.429528\n",
      "[93]\ttrain-rmse:0.416789\tvalid-rmse:0.429412\n",
      "[94]\ttrain-rmse:0.416733\tvalid-rmse:0.42938\n",
      "[95]\ttrain-rmse:0.416607\tvalid-rmse:0.429344\n",
      "[96]\ttrain-rmse:0.416524\tvalid-rmse:0.429343\n",
      "[97]\ttrain-rmse:0.416272\tvalid-rmse:0.429221\n",
      "[98]\ttrain-rmse:0.416223\tvalid-rmse:0.429178\n",
      "[99]\ttrain-rmse:0.415906\tvalid-rmse:0.428981\n",
      "[100]\ttrain-rmse:0.41577\tvalid-rmse:0.428919\n",
      "[101]\ttrain-rmse:0.415753\tvalid-rmse:0.428919\n",
      "[102]\ttrain-rmse:0.415729\tvalid-rmse:0.428903\n",
      "[103]\ttrain-rmse:0.415325\tvalid-rmse:0.428712\n",
      "[104]\ttrain-rmse:0.415295\tvalid-rmse:0.428712\n",
      "[105]\ttrain-rmse:0.415018\tvalid-rmse:0.428582\n",
      "[106]\ttrain-rmse:0.414719\tvalid-rmse:0.428522\n",
      "[107]\ttrain-rmse:0.414618\tvalid-rmse:0.428501\n",
      "[108]\ttrain-rmse:0.414525\tvalid-rmse:0.428447\n",
      "[109]\ttrain-rmse:0.414445\tvalid-rmse:0.428433\n",
      "[110]\ttrain-rmse:0.414148\tvalid-rmse:0.428285\n",
      "[111]\ttrain-rmse:0.413901\tvalid-rmse:0.428155\n",
      "[112]\ttrain-rmse:0.413543\tvalid-rmse:0.428003\n",
      "[113]\ttrain-rmse:0.41333\tvalid-rmse:0.427927\n",
      "[114]\ttrain-rmse:0.413033\tvalid-rmse:0.427823\n",
      "[115]\ttrain-rmse:0.412899\tvalid-rmse:0.427759\n",
      "[116]\ttrain-rmse:0.412854\tvalid-rmse:0.427726\n",
      "[117]\ttrain-rmse:0.412521\tvalid-rmse:0.427599\n",
      "[118]\ttrain-rmse:0.412131\tvalid-rmse:0.42741\n",
      "[119]\ttrain-rmse:0.411738\tvalid-rmse:0.427247\n",
      "[120]\ttrain-rmse:0.411482\tvalid-rmse:0.427183\n",
      "[121]\ttrain-rmse:0.411194\tvalid-rmse:0.42713\n",
      "[122]\ttrain-rmse:0.410889\tvalid-rmse:0.427002\n",
      "[123]\ttrain-rmse:0.410829\tvalid-rmse:0.426966\n",
      "[124]\ttrain-rmse:0.410591\tvalid-rmse:0.426941\n",
      "[125]\ttrain-rmse:0.410376\tvalid-rmse:0.426875\n",
      "[126]\ttrain-rmse:0.410342\tvalid-rmse:0.426855\n",
      "[127]\ttrain-rmse:0.410282\tvalid-rmse:0.426822\n",
      "[128]\ttrain-rmse:0.410209\tvalid-rmse:0.426809\n",
      "[129]\ttrain-rmse:0.410191\tvalid-rmse:0.426791\n",
      "[130]\ttrain-rmse:0.410137\tvalid-rmse:0.426781\n",
      "[131]\ttrain-rmse:0.410127\tvalid-rmse:0.426769\n",
      "[132]\ttrain-rmse:0.410027\tvalid-rmse:0.426742\n",
      "[133]\ttrain-rmse:0.409968\tvalid-rmse:0.426727\n",
      "[134]\ttrain-rmse:0.409915\tvalid-rmse:0.426712\n",
      "[135]\ttrain-rmse:0.409872\tvalid-rmse:0.426689\n",
      "[136]\ttrain-rmse:0.409508\tvalid-rmse:0.426496\n",
      "[137]\ttrain-rmse:0.409342\tvalid-rmse:0.426444\n",
      "[138]\ttrain-rmse:0.409322\tvalid-rmse:0.426439\n",
      "[139]\ttrain-rmse:0.409277\tvalid-rmse:0.426436\n",
      "[140]\ttrain-rmse:0.409244\tvalid-rmse:0.426418\n",
      "[141]\ttrain-rmse:0.409135\tvalid-rmse:0.426389\n",
      "[142]\ttrain-rmse:0.408837\tvalid-rmse:0.426319\n",
      "[143]\ttrain-rmse:0.408769\tvalid-rmse:0.426278\n",
      "[144]\ttrain-rmse:0.408617\tvalid-rmse:0.426223\n",
      "[145]\ttrain-rmse:0.408482\tvalid-rmse:0.426242\n",
      "[146]\ttrain-rmse:0.408258\tvalid-rmse:0.426184\n",
      "[147]\ttrain-rmse:0.407983\tvalid-rmse:0.426098\n",
      "[148]\ttrain-rmse:0.407589\tvalid-rmse:0.425854\n",
      "[149]\ttrain-rmse:0.407289\tvalid-rmse:0.425748\n",
      "[150]\ttrain-rmse:0.407224\tvalid-rmse:0.425699\n",
      "[151]\ttrain-rmse:0.406996\tvalid-rmse:0.425633\n",
      "[152]\ttrain-rmse:0.40669\tvalid-rmse:0.425631\n",
      "[153]\ttrain-rmse:0.406541\tvalid-rmse:0.425576\n",
      "[154]\ttrain-rmse:0.406482\tvalid-rmse:0.425567\n",
      "[155]\ttrain-rmse:0.406328\tvalid-rmse:0.42552\n",
      "[156]\ttrain-rmse:0.406302\tvalid-rmse:0.425492\n",
      "[157]\ttrain-rmse:0.406254\tvalid-rmse:0.425455\n",
      "[158]\ttrain-rmse:0.406171\tvalid-rmse:0.42544\n",
      "[159]\ttrain-rmse:0.406153\tvalid-rmse:0.425433\n",
      "[160]\ttrain-rmse:0.405911\tvalid-rmse:0.42543\n",
      "[161]\ttrain-rmse:0.405647\tvalid-rmse:0.425386\n",
      "[162]\ttrain-rmse:0.405639\tvalid-rmse:0.425377\n",
      "[163]\ttrain-rmse:0.405463\tvalid-rmse:0.425331\n",
      "[164]\ttrain-rmse:0.4053\tvalid-rmse:0.425295\n",
      "[165]\ttrain-rmse:0.4052\tvalid-rmse:0.42526\n",
      "[166]\ttrain-rmse:0.405189\tvalid-rmse:0.425242\n",
      "[167]\ttrain-rmse:0.405168\tvalid-rmse:0.425229\n",
      "[168]\ttrain-rmse:0.40513\tvalid-rmse:0.425218\n",
      "[169]\ttrain-rmse:0.405105\tvalid-rmse:0.425209\n",
      "[170]\ttrain-rmse:0.405091\tvalid-rmse:0.42521\n",
      "[171]\ttrain-rmse:0.405042\tvalid-rmse:0.425207\n",
      "[172]\ttrain-rmse:0.404709\tvalid-rmse:0.42507\n",
      "[173]\ttrain-rmse:0.404513\tvalid-rmse:0.424987\n",
      "[174]\ttrain-rmse:0.404229\tvalid-rmse:0.424824\n",
      "[175]\ttrain-rmse:0.404209\tvalid-rmse:0.424811\n",
      "[176]\ttrain-rmse:0.404037\tvalid-rmse:0.424767\n",
      "[177]\ttrain-rmse:0.403726\tvalid-rmse:0.424588\n",
      "[178]\ttrain-rmse:0.403465\tvalid-rmse:0.424525\n"
     ]
    },
    {
     "name": "stdout",
     "output_type": "stream",
     "text": [
      "[179]\ttrain-rmse:0.40309\tvalid-rmse:0.424339\n",
      "[180]\ttrain-rmse:0.402943\tvalid-rmse:0.424279\n",
      "[181]\ttrain-rmse:0.40261\tvalid-rmse:0.424074\n",
      "[182]\ttrain-rmse:0.402488\tvalid-rmse:0.424032\n",
      "[183]\ttrain-rmse:0.402311\tvalid-rmse:0.423975\n",
      "[184]\ttrain-rmse:0.402164\tvalid-rmse:0.423949\n",
      "[185]\ttrain-rmse:0.401972\tvalid-rmse:0.423931\n",
      "[186]\ttrain-rmse:0.401858\tvalid-rmse:0.42392\n",
      "[187]\ttrain-rmse:0.401723\tvalid-rmse:0.423884\n",
      "[188]\ttrain-rmse:0.40149\tvalid-rmse:0.423831\n",
      "[189]\ttrain-rmse:0.40143\tvalid-rmse:0.423824\n",
      "[190]\ttrain-rmse:0.401387\tvalid-rmse:0.423816\n",
      "[191]\ttrain-rmse:0.401266\tvalid-rmse:0.4238\n",
      "[192]\ttrain-rmse:0.401242\tvalid-rmse:0.423795\n",
      "[193]\ttrain-rmse:0.401235\tvalid-rmse:0.423792\n",
      "[194]\ttrain-rmse:0.401184\tvalid-rmse:0.423766\n",
      "[195]\ttrain-rmse:0.40091\tvalid-rmse:0.42367\n",
      "[196]\ttrain-rmse:0.40089\tvalid-rmse:0.423656\n",
      "[197]\ttrain-rmse:0.400672\tvalid-rmse:0.423614\n",
      "[198]\ttrain-rmse:0.400538\tvalid-rmse:0.423619\n",
      "[199]\ttrain-rmse:0.400341\tvalid-rmse:0.423542\n",
      "[200]\ttrain-rmse:0.400104\tvalid-rmse:0.423497\n",
      "[201]\ttrain-rmse:0.399765\tvalid-rmse:0.423506\n",
      "[202]\ttrain-rmse:0.399755\tvalid-rmse:0.423494\n",
      "[203]\ttrain-rmse:0.399686\tvalid-rmse:0.42348\n",
      "[204]\ttrain-rmse:0.399525\tvalid-rmse:0.423461\n",
      "[205]\ttrain-rmse:0.399446\tvalid-rmse:0.423457\n",
      "[206]\ttrain-rmse:0.399314\tvalid-rmse:0.423435\n",
      "[207]\ttrain-rmse:0.399169\tvalid-rmse:0.423441\n",
      "[208]\ttrain-rmse:0.398882\tvalid-rmse:0.423366\n",
      "[209]\ttrain-rmse:0.398587\tvalid-rmse:0.423266\n",
      "[210]\ttrain-rmse:0.398325\tvalid-rmse:0.423223\n",
      "[211]\ttrain-rmse:0.398034\tvalid-rmse:0.423148\n",
      "[212]\ttrain-rmse:0.397777\tvalid-rmse:0.423096\n",
      "[213]\ttrain-rmse:0.397432\tvalid-rmse:0.422902\n",
      "[214]\ttrain-rmse:0.39734\tvalid-rmse:0.422862\n",
      "[215]\ttrain-rmse:0.397128\tvalid-rmse:0.422832\n",
      "[216]\ttrain-rmse:0.397117\tvalid-rmse:0.422829\n",
      "[217]\ttrain-rmse:0.397098\tvalid-rmse:0.422834\n",
      "[218]\ttrain-rmse:0.39708\tvalid-rmse:0.422829\n",
      "[219]\ttrain-rmse:0.397059\tvalid-rmse:0.422809\n",
      "[220]\ttrain-rmse:0.396788\tvalid-rmse:0.422727\n",
      "[221]\ttrain-rmse:0.396605\tvalid-rmse:0.422717\n",
      "[222]\ttrain-rmse:0.39647\tvalid-rmse:0.42267\n",
      "[223]\ttrain-rmse:0.396192\tvalid-rmse:0.422579\n",
      "[224]\ttrain-rmse:0.395962\tvalid-rmse:0.422531\n",
      "[225]\ttrain-rmse:0.395873\tvalid-rmse:0.422536\n",
      "[226]\ttrain-rmse:0.395858\tvalid-rmse:0.422515\n",
      "[227]\ttrain-rmse:0.395847\tvalid-rmse:0.422512\n",
      "[228]\ttrain-rmse:0.39584\tvalid-rmse:0.422507\n",
      "[229]\ttrain-rmse:0.395835\tvalid-rmse:0.422509\n",
      "[230]\ttrain-rmse:0.395822\tvalid-rmse:0.422496\n",
      "[231]\ttrain-rmse:0.395817\tvalid-rmse:0.422498\n",
      "[232]\ttrain-rmse:0.3958\tvalid-rmse:0.422472\n",
      "[233]\ttrain-rmse:0.395795\tvalid-rmse:0.422472\n",
      "[234]\ttrain-rmse:0.395667\tvalid-rmse:0.422451\n",
      "[235]\ttrain-rmse:0.395645\tvalid-rmse:0.422452\n",
      "[236]\ttrain-rmse:0.395615\tvalid-rmse:0.422452\n",
      "[237]\ttrain-rmse:0.395521\tvalid-rmse:0.422415\n",
      "[238]\ttrain-rmse:0.395421\tvalid-rmse:0.422375\n",
      "[239]\ttrain-rmse:0.395405\tvalid-rmse:0.422374\n",
      "[240]\ttrain-rmse:0.395369\tvalid-rmse:0.422372\n",
      "[241]\ttrain-rmse:0.395206\tvalid-rmse:0.422285\n",
      "[242]\ttrain-rmse:0.395026\tvalid-rmse:0.422262\n",
      "[243]\ttrain-rmse:0.394916\tvalid-rmse:0.422249\n",
      "[244]\ttrain-rmse:0.394755\tvalid-rmse:0.422253\n",
      "[245]\ttrain-rmse:0.394522\tvalid-rmse:0.422179\n",
      "[246]\ttrain-rmse:0.394294\tvalid-rmse:0.42215\n",
      "[247]\ttrain-rmse:0.394273\tvalid-rmse:0.42215\n",
      "[248]\ttrain-rmse:0.394255\tvalid-rmse:0.422141\n",
      "[249]\ttrain-rmse:0.394238\tvalid-rmse:0.422124\n",
      "[250]\ttrain-rmse:0.394168\tvalid-rmse:0.422116\n",
      "[251]\ttrain-rmse:0.394026\tvalid-rmse:0.422093\n",
      "[252]\ttrain-rmse:0.394002\tvalid-rmse:0.42209\n",
      "[253]\ttrain-rmse:0.393926\tvalid-rmse:0.422046\n",
      "[254]\ttrain-rmse:0.39366\tvalid-rmse:0.42199\n",
      "[255]\ttrain-rmse:0.39348\tvalid-rmse:0.421986\n",
      "[256]\ttrain-rmse:0.39328\tvalid-rmse:0.421961\n",
      "[257]\ttrain-rmse:0.393198\tvalid-rmse:0.421971\n",
      "[258]\ttrain-rmse:0.393149\tvalid-rmse:0.421971\n",
      "[259]\ttrain-rmse:0.393001\tvalid-rmse:0.421964\n",
      "[260]\ttrain-rmse:0.392995\tvalid-rmse:0.421959\n",
      "[261]\ttrain-rmse:0.39293\tvalid-rmse:0.421961\n",
      "[262]\ttrain-rmse:0.392898\tvalid-rmse:0.421943\n",
      "[263]\ttrain-rmse:0.39289\tvalid-rmse:0.421934\n",
      "[264]\ttrain-rmse:0.392817\tvalid-rmse:0.42192\n",
      "[265]\ttrain-rmse:0.39276\tvalid-rmse:0.421923\n",
      "[266]\ttrain-rmse:0.392613\tvalid-rmse:0.421919\n",
      "[267]\ttrain-rmse:0.392484\tvalid-rmse:0.421883\n",
      "[268]\ttrain-rmse:0.392377\tvalid-rmse:0.421887\n",
      "[269]\ttrain-rmse:0.392182\tvalid-rmse:0.421822\n",
      "[270]\ttrain-rmse:0.391967\tvalid-rmse:0.421728\n",
      "[271]\ttrain-rmse:0.391862\tvalid-rmse:0.421742\n",
      "[272]\ttrain-rmse:0.391774\tvalid-rmse:0.421722\n",
      "[273]\ttrain-rmse:0.39164\tvalid-rmse:0.421696\n",
      "[274]\ttrain-rmse:0.391476\tvalid-rmse:0.421664\n",
      "[275]\ttrain-rmse:0.391372\tvalid-rmse:0.421658\n",
      "[276]\ttrain-rmse:0.391312\tvalid-rmse:0.421634\n",
      "[277]\ttrain-rmse:0.391304\tvalid-rmse:0.42163\n",
      "[278]\ttrain-rmse:0.391047\tvalid-rmse:0.421607\n",
      "[279]\ttrain-rmse:0.390818\tvalid-rmse:0.421577\n",
      "[280]\ttrain-rmse:0.390643\tvalid-rmse:0.421542\n",
      "[281]\ttrain-rmse:0.390543\tvalid-rmse:0.42154\n",
      "[282]\ttrain-rmse:0.390389\tvalid-rmse:0.421483\n",
      "[283]\ttrain-rmse:0.390179\tvalid-rmse:0.421411\n",
      "[284]\ttrain-rmse:0.390016\tvalid-rmse:0.421428\n",
      "[285]\ttrain-rmse:0.389973\tvalid-rmse:0.421416\n",
      "[286]\ttrain-rmse:0.389845\tvalid-rmse:0.421383\n",
      "[287]\ttrain-rmse:0.38963\tvalid-rmse:0.421364\n",
      "[288]\ttrain-rmse:0.389517\tvalid-rmse:0.421338\n",
      "[289]\ttrain-rmse:0.389311\tvalid-rmse:0.421284\n",
      "[290]\ttrain-rmse:0.389174\tvalid-rmse:0.42123\n",
      "[291]\ttrain-rmse:0.388999\tvalid-rmse:0.421174\n",
      "[292]\ttrain-rmse:0.388963\tvalid-rmse:0.421158\n",
      "[293]\ttrain-rmse:0.388836\tvalid-rmse:0.421128\n",
      "[294]\ttrain-rmse:0.388787\tvalid-rmse:0.42113\n",
      "[295]\ttrain-rmse:0.388781\tvalid-rmse:0.421117\n",
      "[296]\ttrain-rmse:0.388613\tvalid-rmse:0.421078\n",
      "[297]\ttrain-rmse:0.388529\tvalid-rmse:0.421067\n",
      "[298]\ttrain-rmse:0.388281\tvalid-rmse:0.420978\n",
      "[299]\ttrain-rmse:0.388112\tvalid-rmse:0.420955\n",
      "[300]\ttrain-rmse:0.387965\tvalid-rmse:0.420972\n",
      "[301]\ttrain-rmse:0.387767\tvalid-rmse:0.420955\n",
      "[302]\ttrain-rmse:0.387519\tvalid-rmse:0.420917\n",
      "[303]\ttrain-rmse:0.387353\tvalid-rmse:0.420908\n",
      "[304]\ttrain-rmse:0.387148\tvalid-rmse:0.420861\n",
      "[305]\ttrain-rmse:0.38706\tvalid-rmse:0.420809\n",
      "[306]\ttrain-rmse:0.387043\tvalid-rmse:0.420806\n",
      "[307]\ttrain-rmse:0.387003\tvalid-rmse:0.420789\n",
      "[308]\ttrain-rmse:0.386969\tvalid-rmse:0.420803\n",
      "[309]\ttrain-rmse:0.386865\tvalid-rmse:0.420766\n",
      "[310]\ttrain-rmse:0.386768\tvalid-rmse:0.420753\n",
      "[311]\ttrain-rmse:0.38654\tvalid-rmse:0.42073\n",
      "[312]\ttrain-rmse:0.386337\tvalid-rmse:0.420707\n",
      "[313]\ttrain-rmse:0.386159\tvalid-rmse:0.420663\n",
      "[314]\ttrain-rmse:0.385956\tvalid-rmse:0.4206\n",
      "[315]\ttrain-rmse:0.385746\tvalid-rmse:0.420565\n",
      "[316]\ttrain-rmse:0.385527\tvalid-rmse:0.420564\n",
      "[317]\ttrain-rmse:0.385322\tvalid-rmse:0.420531\n",
      "[318]\ttrain-rmse:0.38513\tvalid-rmse:0.420466\n",
      "[319]\ttrain-rmse:0.384926\tvalid-rmse:0.420395\n",
      "[320]\ttrain-rmse:0.38472\tvalid-rmse:0.420413\n",
      "[321]\ttrain-rmse:0.384579\tvalid-rmse:0.420356\n",
      "[322]\ttrain-rmse:0.384484\tvalid-rmse:0.420327\n",
      "[323]\ttrain-rmse:0.384414\tvalid-rmse:0.420329\n",
      "[324]\ttrain-rmse:0.384221\tvalid-rmse:0.420272\n",
      "[325]\ttrain-rmse:0.384133\tvalid-rmse:0.42027\n",
      "[326]\ttrain-rmse:0.384055\tvalid-rmse:0.420262\n",
      "[327]\ttrain-rmse:0.38385\tvalid-rmse:0.420227\n",
      "[328]\ttrain-rmse:0.383657\tvalid-rmse:0.420166\n",
      "[329]\ttrain-rmse:0.383524\tvalid-rmse:0.420125\n",
      "[330]\ttrain-rmse:0.383403\tvalid-rmse:0.420127\n",
      "[331]\ttrain-rmse:0.383364\tvalid-rmse:0.420118\n",
      "[332]\ttrain-rmse:0.383355\tvalid-rmse:0.420111\n",
      "[333]\ttrain-rmse:0.383249\tvalid-rmse:0.420048\n",
      "[334]\ttrain-rmse:0.383228\tvalid-rmse:0.420036\n",
      "[335]\ttrain-rmse:0.382984\tvalid-rmse:0.419996\n",
      "[336]\ttrain-rmse:0.382889\tvalid-rmse:0.419983\n",
      "[337]\ttrain-rmse:0.382632\tvalid-rmse:0.419988\n",
      "[338]\ttrain-rmse:0.382551\tvalid-rmse:0.419959\n",
      "[339]\ttrain-rmse:0.382347\tvalid-rmse:0.419914\n",
      "[340]\ttrain-rmse:0.382317\tvalid-rmse:0.419895\n",
      "[341]\ttrain-rmse:0.382106\tvalid-rmse:0.419842\n",
      "[342]\ttrain-rmse:0.381906\tvalid-rmse:0.41981\n",
      "[343]\ttrain-rmse:0.381665\tvalid-rmse:0.419801\n",
      "[344]\ttrain-rmse:0.38145\tvalid-rmse:0.41974\n",
      "[345]\ttrain-rmse:0.381259\tvalid-rmse:0.419667\n",
      "[346]\ttrain-rmse:0.381149\tvalid-rmse:0.419645\n",
      "[347]\ttrain-rmse:0.38098\tvalid-rmse:0.419651\n",
      "[348]\ttrain-rmse:0.38086\tvalid-rmse:0.419619\n",
      "[349]\ttrain-rmse:0.380773\tvalid-rmse:0.419607\n",
      "[350]\ttrain-rmse:0.380702\tvalid-rmse:0.419631\n",
      "[351]\ttrain-rmse:0.380675\tvalid-rmse:0.419627\n",
      "[352]\ttrain-rmse:0.380662\tvalid-rmse:0.419628\n",
      "[353]\ttrain-rmse:0.380581\tvalid-rmse:0.419631\n",
      "[354]\ttrain-rmse:0.380554\tvalid-rmse:0.419626\n",
      "[355]\ttrain-rmse:0.380517\tvalid-rmse:0.419608\n",
      "[356]\ttrain-rmse:0.380446\tvalid-rmse:0.419602\n",
      "[357]\ttrain-rmse:0.38023\tvalid-rmse:0.41956\n",
      "[358]\ttrain-rmse:0.380125\tvalid-rmse:0.419525\n"
     ]
    },
    {
     "name": "stdout",
     "output_type": "stream",
     "text": [
      "[359]\ttrain-rmse:0.379994\tvalid-rmse:0.419497\n",
      "[360]\ttrain-rmse:0.379793\tvalid-rmse:0.419506\n",
      "[361]\ttrain-rmse:0.379573\tvalid-rmse:0.419462\n",
      "[362]\ttrain-rmse:0.379429\tvalid-rmse:0.419466\n",
      "[363]\ttrain-rmse:0.379332\tvalid-rmse:0.419465\n",
      "[364]\ttrain-rmse:0.379169\tvalid-rmse:0.419488\n",
      "[365]\ttrain-rmse:0.379076\tvalid-rmse:0.419483\n",
      "[366]\ttrain-rmse:0.378843\tvalid-rmse:0.419414\n",
      "[367]\ttrain-rmse:0.378785\tvalid-rmse:0.419407\n",
      "[368]\ttrain-rmse:0.378697\tvalid-rmse:0.419404\n",
      "[369]\ttrain-rmse:0.378692\tvalid-rmse:0.419399\n",
      "[370]\ttrain-rmse:0.378683\tvalid-rmse:0.419397\n",
      "[371]\ttrain-rmse:0.378662\tvalid-rmse:0.419386\n",
      "[372]\ttrain-rmse:0.37865\tvalid-rmse:0.419372\n",
      "[373]\ttrain-rmse:0.378639\tvalid-rmse:0.419366\n",
      "[374]\ttrain-rmse:0.378504\tvalid-rmse:0.419368\n",
      "[375]\ttrain-rmse:0.378432\tvalid-rmse:0.419381\n",
      "[376]\ttrain-rmse:0.378429\tvalid-rmse:0.41938\n",
      "[377]\ttrain-rmse:0.378222\tvalid-rmse:0.419375\n",
      "[378]\ttrain-rmse:0.378051\tvalid-rmse:0.419333\n",
      "[379]\ttrain-rmse:0.37787\tvalid-rmse:0.419284\n",
      "[380]\ttrain-rmse:0.377684\tvalid-rmse:0.419255\n",
      "[381]\ttrain-rmse:0.377591\tvalid-rmse:0.419224\n",
      "[382]\ttrain-rmse:0.377419\tvalid-rmse:0.419209\n",
      "[383]\ttrain-rmse:0.377327\tvalid-rmse:0.419214\n",
      "[384]\ttrain-rmse:0.377043\tvalid-rmse:0.419081\n",
      "[385]\ttrain-rmse:0.376902\tvalid-rmse:0.419069\n",
      "[386]\ttrain-rmse:0.376845\tvalid-rmse:0.41906\n",
      "[387]\ttrain-rmse:0.376798\tvalid-rmse:0.419068\n",
      "[388]\ttrain-rmse:0.376783\tvalid-rmse:0.419056\n",
      "[389]\ttrain-rmse:0.376601\tvalid-rmse:0.419039\n",
      "[390]\ttrain-rmse:0.376402\tvalid-rmse:0.419028\n",
      "[391]\ttrain-rmse:0.376249\tvalid-rmse:0.419029\n",
      "[392]\ttrain-rmse:0.376208\tvalid-rmse:0.419013\n",
      "[393]\ttrain-rmse:0.37601\tvalid-rmse:0.419008\n",
      "[394]\ttrain-rmse:0.375847\tvalid-rmse:0.41899\n",
      "[395]\ttrain-rmse:0.375817\tvalid-rmse:0.418977\n",
      "[396]\ttrain-rmse:0.375618\tvalid-rmse:0.418952\n",
      "[397]\ttrain-rmse:0.375399\tvalid-rmse:0.41889\n",
      "[398]\ttrain-rmse:0.375351\tvalid-rmse:0.418875\n",
      "[399]\ttrain-rmse:0.375297\tvalid-rmse:0.418883\n",
      "[400]\ttrain-rmse:0.375292\tvalid-rmse:0.418881\n",
      "[401]\ttrain-rmse:0.375245\tvalid-rmse:0.418875\n",
      "[402]\ttrain-rmse:0.375238\tvalid-rmse:0.418873\n",
      "[403]\ttrain-rmse:0.37521\tvalid-rmse:0.418862\n",
      "[404]\ttrain-rmse:0.375208\tvalid-rmse:0.418849\n",
      "[405]\ttrain-rmse:0.375073\tvalid-rmse:0.418831\n",
      "[406]\ttrain-rmse:0.374906\tvalid-rmse:0.418796\n",
      "[407]\ttrain-rmse:0.374851\tvalid-rmse:0.418779\n",
      "[408]\ttrain-rmse:0.374723\tvalid-rmse:0.418724\n",
      "[409]\ttrain-rmse:0.374569\tvalid-rmse:0.418702\n",
      "[410]\ttrain-rmse:0.374496\tvalid-rmse:0.418705\n",
      "[411]\ttrain-rmse:0.37433\tvalid-rmse:0.418703\n",
      "[412]\ttrain-rmse:0.374158\tvalid-rmse:0.418651\n",
      "[413]\ttrain-rmse:0.374121\tvalid-rmse:0.418639\n",
      "[414]\ttrain-rmse:0.37411\tvalid-rmse:0.41864\n",
      "[415]\ttrain-rmse:0.374042\tvalid-rmse:0.418624\n",
      "[416]\ttrain-rmse:0.373874\tvalid-rmse:0.418617\n",
      "[417]\ttrain-rmse:0.373785\tvalid-rmse:0.418617\n",
      "[418]\ttrain-rmse:0.373754\tvalid-rmse:0.418606\n",
      "[419]\ttrain-rmse:0.373574\tvalid-rmse:0.418507\n",
      "[420]\ttrain-rmse:0.373416\tvalid-rmse:0.418518\n",
      "[421]\ttrain-rmse:0.373202\tvalid-rmse:0.418499\n",
      "[422]\ttrain-rmse:0.373181\tvalid-rmse:0.418501\n",
      "[423]\ttrain-rmse:0.373178\tvalid-rmse:0.418498\n",
      "[424]\ttrain-rmse:0.373112\tvalid-rmse:0.418477\n",
      "[425]\ttrain-rmse:0.373015\tvalid-rmse:0.41846\n",
      "[426]\ttrain-rmse:0.372945\tvalid-rmse:0.418459\n",
      "[427]\ttrain-rmse:0.372915\tvalid-rmse:0.418454\n",
      "[428]\ttrain-rmse:0.372897\tvalid-rmse:0.418445\n",
      "[429]\ttrain-rmse:0.372768\tvalid-rmse:0.418422\n",
      "[430]\ttrain-rmse:0.372545\tvalid-rmse:0.418387\n",
      "[431]\ttrain-rmse:0.372269\tvalid-rmse:0.418291\n",
      "[432]\ttrain-rmse:0.372189\tvalid-rmse:0.418277\n",
      "[433]\ttrain-rmse:0.372023\tvalid-rmse:0.418285\n",
      "[434]\ttrain-rmse:0.372021\tvalid-rmse:0.418283\n",
      "[435]\ttrain-rmse:0.371944\tvalid-rmse:0.418272\n",
      "[436]\ttrain-rmse:0.371939\tvalid-rmse:0.418274\n",
      "[437]\ttrain-rmse:0.371869\tvalid-rmse:0.418265\n",
      "[438]\ttrain-rmse:0.371749\tvalid-rmse:0.418247\n",
      "[439]\ttrain-rmse:0.371664\tvalid-rmse:0.418241\n",
      "[440]\ttrain-rmse:0.371491\tvalid-rmse:0.418234\n",
      "[441]\ttrain-rmse:0.371378\tvalid-rmse:0.418212\n",
      "[442]\ttrain-rmse:0.371205\tvalid-rmse:0.418182\n",
      "[443]\ttrain-rmse:0.371054\tvalid-rmse:0.418156\n",
      "[444]\ttrain-rmse:0.37091\tvalid-rmse:0.41815\n",
      "[445]\ttrain-rmse:0.370831\tvalid-rmse:0.418148\n",
      "[446]\ttrain-rmse:0.370742\tvalid-rmse:0.418136\n",
      "[447]\ttrain-rmse:0.370568\tvalid-rmse:0.418121\n",
      "[448]\ttrain-rmse:0.370418\tvalid-rmse:0.41809\n",
      "[449]\ttrain-rmse:0.370231\tvalid-rmse:0.418071\n",
      "[450]\ttrain-rmse:0.3701\tvalid-rmse:0.418085\n",
      "[451]\ttrain-rmse:0.370004\tvalid-rmse:0.418073\n",
      "[452]\ttrain-rmse:0.369857\tvalid-rmse:0.418079\n",
      "[453]\ttrain-rmse:0.36964\tvalid-rmse:0.418007\n",
      "[454]\ttrain-rmse:0.369403\tvalid-rmse:0.417943\n",
      "[455]\ttrain-rmse:0.369321\tvalid-rmse:0.417927\n",
      "[456]\ttrain-rmse:0.369231\tvalid-rmse:0.417942\n",
      "[457]\ttrain-rmse:0.369101\tvalid-rmse:0.417919\n",
      "[458]\ttrain-rmse:0.368931\tvalid-rmse:0.417915\n",
      "[459]\ttrain-rmse:0.368799\tvalid-rmse:0.417883\n",
      "[460]\ttrain-rmse:0.368599\tvalid-rmse:0.417842\n",
      "[461]\ttrain-rmse:0.368346\tvalid-rmse:0.417759\n",
      "[462]\ttrain-rmse:0.368237\tvalid-rmse:0.417741\n",
      "[463]\ttrain-rmse:0.368153\tvalid-rmse:0.417765\n",
      "[464]\ttrain-rmse:0.368116\tvalid-rmse:0.417754\n",
      "[465]\ttrain-rmse:0.368109\tvalid-rmse:0.417756\n",
      "[466]\ttrain-rmse:0.368044\tvalid-rmse:0.417754\n",
      "[467]\ttrain-rmse:0.367801\tvalid-rmse:0.417717\n",
      "[468]\ttrain-rmse:0.367717\tvalid-rmse:0.417714\n",
      "[469]\ttrain-rmse:0.367622\tvalid-rmse:0.417699\n",
      "[470]\ttrain-rmse:0.367569\tvalid-rmse:0.417666\n",
      "[471]\ttrain-rmse:0.36743\tvalid-rmse:0.417635\n",
      "[472]\ttrain-rmse:0.367283\tvalid-rmse:0.417592\n",
      "[473]\ttrain-rmse:0.367038\tvalid-rmse:0.417552\n",
      "[474]\ttrain-rmse:0.366997\tvalid-rmse:0.417551\n",
      "[475]\ttrain-rmse:0.366865\tvalid-rmse:0.417532\n",
      "[476]\ttrain-rmse:0.366732\tvalid-rmse:0.417534\n",
      "[477]\ttrain-rmse:0.366707\tvalid-rmse:0.417535\n",
      "[478]\ttrain-rmse:0.366643\tvalid-rmse:0.417513\n",
      "[479]\ttrain-rmse:0.366509\tvalid-rmse:0.417438\n",
      "[480]\ttrain-rmse:0.366472\tvalid-rmse:0.417422\n",
      "[481]\ttrain-rmse:0.366461\tvalid-rmse:0.417416\n",
      "[482]\ttrain-rmse:0.366342\tvalid-rmse:0.417388\n",
      "[483]\ttrain-rmse:0.366184\tvalid-rmse:0.417337\n",
      "[484]\ttrain-rmse:0.366128\tvalid-rmse:0.417305\n",
      "[485]\ttrain-rmse:0.366112\tvalid-rmse:0.417299\n",
      "[486]\ttrain-rmse:0.366044\tvalid-rmse:0.417265\n",
      "[487]\ttrain-rmse:0.365858\tvalid-rmse:0.417231\n",
      "[488]\ttrain-rmse:0.365852\tvalid-rmse:0.417216\n",
      "[489]\ttrain-rmse:0.365843\tvalid-rmse:0.417213\n",
      "[490]\ttrain-rmse:0.36584\tvalid-rmse:0.417208\n",
      "[491]\ttrain-rmse:0.365785\tvalid-rmse:0.417199\n",
      "[492]\ttrain-rmse:0.365771\tvalid-rmse:0.417202\n",
      "[493]\ttrain-rmse:0.365743\tvalid-rmse:0.417203\n",
      "[494]\ttrain-rmse:0.365649\tvalid-rmse:0.417189\n",
      "[495]\ttrain-rmse:0.36548\tvalid-rmse:0.417194\n",
      "[496]\ttrain-rmse:0.365357\tvalid-rmse:0.417141\n",
      "[497]\ttrain-rmse:0.365177\tvalid-rmse:0.417089\n",
      "[498]\ttrain-rmse:0.364981\tvalid-rmse:0.417082\n",
      "[499]\ttrain-rmse:0.364894\tvalid-rmse:0.417067\n",
      "[500]\ttrain-rmse:0.364631\tvalid-rmse:0.417005\n",
      "[501]\ttrain-rmse:0.364478\tvalid-rmse:0.416979\n",
      "[502]\ttrain-rmse:0.364327\tvalid-rmse:0.416986\n",
      "[503]\ttrain-rmse:0.364156\tvalid-rmse:0.416951\n",
      "[504]\ttrain-rmse:0.364047\tvalid-rmse:0.416918\n",
      "[505]\ttrain-rmse:0.363843\tvalid-rmse:0.416912\n",
      "[506]\ttrain-rmse:0.363731\tvalid-rmse:0.41691\n",
      "[507]\ttrain-rmse:0.363602\tvalid-rmse:0.416928\n",
      "[508]\ttrain-rmse:0.363446\tvalid-rmse:0.416869\n",
      "[509]\ttrain-rmse:0.363296\tvalid-rmse:0.416872\n",
      "[510]\ttrain-rmse:0.363153\tvalid-rmse:0.416831\n",
      "[511]\ttrain-rmse:0.363041\tvalid-rmse:0.416854\n",
      "[512]\ttrain-rmse:0.36285\tvalid-rmse:0.416839\n",
      "[513]\ttrain-rmse:0.362825\tvalid-rmse:0.416845\n",
      "[514]\ttrain-rmse:0.362804\tvalid-rmse:0.416836\n",
      "[515]\ttrain-rmse:0.362636\tvalid-rmse:0.416816\n",
      "[516]\ttrain-rmse:0.362479\tvalid-rmse:0.416793\n",
      "[517]\ttrain-rmse:0.362302\tvalid-rmse:0.416785\n",
      "[518]\ttrain-rmse:0.362217\tvalid-rmse:0.416778\n",
      "[519]\ttrain-rmse:0.362159\tvalid-rmse:0.416777\n",
      "[520]\ttrain-rmse:0.362123\tvalid-rmse:0.416782\n",
      "[521]\ttrain-rmse:0.361927\tvalid-rmse:0.416732\n",
      "[522]\ttrain-rmse:0.361725\tvalid-rmse:0.416728\n",
      "[523]\ttrain-rmse:0.361669\tvalid-rmse:0.416697\n",
      "[524]\ttrain-rmse:0.361541\tvalid-rmse:0.416717\n",
      "[525]\ttrain-rmse:0.361511\tvalid-rmse:0.416703\n",
      "[526]\ttrain-rmse:0.361358\tvalid-rmse:0.416743\n",
      "[527]\ttrain-rmse:0.361342\tvalid-rmse:0.416741\n",
      "[528]\ttrain-rmse:0.361308\tvalid-rmse:0.416761\n",
      "[529]\ttrain-rmse:0.361193\tvalid-rmse:0.416744\n",
      "[530]\ttrain-rmse:0.361039\tvalid-rmse:0.416681\n",
      "[531]\ttrain-rmse:0.360849\tvalid-rmse:0.41666\n",
      "[532]\ttrain-rmse:0.36073\tvalid-rmse:0.41666\n",
      "[533]\ttrain-rmse:0.360599\tvalid-rmse:0.41668\n",
      "[534]\ttrain-rmse:0.360431\tvalid-rmse:0.41664\n",
      "[535]\ttrain-rmse:0.360309\tvalid-rmse:0.416661\n",
      "[536]\ttrain-rmse:0.360302\tvalid-rmse:0.416657\n",
      "[537]\ttrain-rmse:0.360239\tvalid-rmse:0.416658\n"
     ]
    },
    {
     "name": "stdout",
     "output_type": "stream",
     "text": [
      "[538]\ttrain-rmse:0.360193\tvalid-rmse:0.416666\n",
      "[539]\ttrain-rmse:0.360118\tvalid-rmse:0.416678\n",
      "[540]\ttrain-rmse:0.359977\tvalid-rmse:0.416706\n",
      "[541]\ttrain-rmse:0.35982\tvalid-rmse:0.416683\n",
      "[542]\ttrain-rmse:0.35971\tvalid-rmse:0.416695\n",
      "[543]\ttrain-rmse:0.359643\tvalid-rmse:0.416703\n",
      "[544]\ttrain-rmse:0.35957\tvalid-rmse:0.416692\n",
      "Stopping. Best iteration:\n",
      "[534]\ttrain-rmse:0.360431\tvalid-rmse:0.41664\n",
      "\n"
     ]
    }
   ],
   "source": [
    "params = {} # 인자를 통해 XGB모델에 넣어 주자 \n",
    "params['objective'] = 'binary:logistic' # 로지스틱 예측을 통해서 \n",
    "params['eval_metric'] = 'rmse' # root mean square error를 사용\n",
    "\n",
    "bst = xgb.train(params, \n",
    "                train_data, \n",
    "                num_boost_round = 1000, \n",
    "                evals = data_list, \n",
    "                early_stopping_rounds=10)\n"
   ]
  },
  {
   "cell_type": "markdown",
   "metadata": {},
   "source": [
    "### 테스트 데이터 가져오기"
   ]
  },
  {
   "cell_type": "code",
   "execution_count": 35,
   "metadata": {},
   "outputs": [],
   "source": [
    "TEST_Q1_DATA_FILE = 'test_q1.npy'\n",
    "TEST_Q2_DATA_FILE = 'test_q2.npy'\n",
    "TEST_ID_DATA_FILE = 'test_id.npy'\n",
    "\n",
    "test_q1_data = np.load(open(DATA_IN_PATH + TEST_Q1_DATA_FILE, 'rb' ))\n",
    "test_q2_data = np.load(open(DATA_IN_PATH + TEST_Q2_DATA_FILE, 'rb'))\n",
    "# test_id_data = np.load(open(DATA_IN_PATH + TEST_ID_DATA_FILE, 'rb'))\n",
    "test_id_data = np.arange(2345796)"
   ]
  },
  {
   "cell_type": "markdown",
   "metadata": {},
   "source": [
    "### 예측하기"
   ]
  },
  {
   "cell_type": "code",
   "execution_count": 30,
   "metadata": {
    "collapsed": true
   },
   "outputs": [],
   "source": [
    "test_input = np.stack((test_q1_data, test_q2_data), axis=1) \n",
    "test_data = xgb.DMatrix(test_input.sum(axis=1))\n",
    "test_predict = bst.predict(test_data)"
   ]
  },
  {
   "cell_type": "code",
   "execution_count": 36,
   "metadata": {},
   "outputs": [],
   "source": [
    "if not os.path.exists(DATA_OUT_PATH):\n",
    "    os.makedirs(DATA_OUT_PATH)\n",
    "    \n",
    "output = pd.DataFrame({'test_id': test_id_data, 'is_duplicate': test_predict})\n",
    "output.to_csv(DATA_OUT_PATH + 'simple_xgb.csv', index=False)"
   ]
  },
  {
   "cell_type": "code",
   "execution_count": 37,
   "metadata": {},
   "outputs": [
    {
     "data": {
      "text/plain": [
       "(2345796, 2, 31)"
      ]
     },
     "execution_count": 37,
     "metadata": {},
     "output_type": "execute_result"
    }
   ],
   "source": [
    "test_input.shape"
   ]
  },
  {
   "cell_type": "code",
   "execution_count": 38,
   "metadata": {},
   "outputs": [
    {
     "data": {
      "text/plain": [
       "(2345796, 2)"
      ]
     },
     "execution_count": 38,
     "metadata": {},
     "output_type": "execute_result"
    }
   ],
   "source": [
    "output.shape"
   ]
  },
  {
   "cell_type": "code",
   "execution_count": null,
   "metadata": {
    "collapsed": true
   },
   "outputs": [],
   "source": []
  }
 ],
 "metadata": {
  "kernelspec": {
   "display_name": "tf2",
   "language": "python",
   "name": "tf2"
  },
  "language_info": {
   "codemirror_mode": {
    "name": "ipython",
    "version": 3
   },
   "file_extension": ".py",
   "mimetype": "text/x-python",
   "name": "python",
   "nbconvert_exporter": "python",
   "pygments_lexer": "ipython3",
   "version": "3.6.12"
  }
 },
 "nbformat": 4,
 "nbformat_minor": 2
}
