{
 "cells": [
  {
   "cell_type": "code",
   "execution_count": 8,
   "metadata": {
    "collapsed": true
   },
   "outputs": [],
   "source": [
    "import tensorflow as tf\n",
    "import numpy as np\n",
    "import os\n",
    "\n",
    "from tensorflow.keras.callbacks import EarlyStopping, ModelCheckpoint\n",
    "import matplotlib.pyplot as plt\n",
    "\n",
    "from preprocess import *"
   ]
  },
  {
   "cell_type": "markdown",
   "metadata": {},
   "source": [
    "# 시각화 함수"
   ]
  },
  {
   "cell_type": "code",
   "execution_count": 9,
   "metadata": {
    "collapsed": true
   },
   "outputs": [],
   "source": [
    "def plot_graphs(history, string):\n",
    "    plt.plot(history.history[string])\n",
    "    plt.plot(history.history['val_'+string], '')\n",
    "    plt.xlabel(\"Epochs\")\n",
    "    plt.ylabel(string)\n",
    "    plt.legend([string, 'val_'+string])\n",
    "    plt.show()"
   ]
  },
  {
   "cell_type": "markdown",
   "metadata": {},
   "source": [
    "# 학습 데이터 경로 정의"
   ]
  },
  {
   "cell_type": "code",
   "execution_count": 10,
   "metadata": {
    "collapsed": true
   },
   "outputs": [],
   "source": [
    "DATA_IN_PATH = './data_in/'\n",
    "DATA_OUT_PATH = './data_out/'\n",
    "TRAIN_INPUTS = 'train_inputs.npy'\n",
    "TRAIN_OUTPUTS = 'train_outputs.npy'\n",
    "TRAIN_TARGETS = 'train_targets.npy'\n",
    "DATA_CONFIGS = 'data_configs.json'"
   ]
  },
  {
   "cell_type": "markdown",
   "metadata": {},
   "source": [
    "# 랜덤 시드 고정"
   ]
  },
  {
   "cell_type": "code",
   "execution_count": 11,
   "metadata": {
    "collapsed": true
   },
   "outputs": [],
   "source": [
    "SEED_NUM = 1234\n",
    "tf.random.set_seed(SEED_NUM)"
   ]
  },
  {
   "cell_type": "markdown",
   "metadata": {},
   "source": [
    "# 파일 로드"
   ]
  },
  {
   "cell_type": "code",
   "execution_count": 12,
   "metadata": {
    "collapsed": true
   },
   "outputs": [],
   "source": [
    "index_inputs = np.load(open(DATA_IN_PATH + TRAIN_INPUTS, 'rb'))\n",
    "index_outputs = np.load(open(DATA_IN_PATH + TRAIN_OUTPUTS , 'rb'))\n",
    "index_targets = np.load(open(DATA_IN_PATH + TRAIN_TARGETS , 'rb'))\n",
    "prepro_configs = json.load(open(DATA_IN_PATH + DATA_CONFIGS, 'r'))"
   ]
  },
  {
   "cell_type": "code",
   "execution_count": 13,
   "metadata": {},
   "outputs": [
    {
     "name": "stdout",
     "output_type": "stream",
     "text": [
      "20 20 20\n"
     ]
    }
   ],
   "source": [
    "# Show length\n",
    "print(len(index_inputs),  len(index_outputs), len(index_targets))"
   ]
  },
  {
   "cell_type": "markdown",
   "metadata": {},
   "source": [
    "## 모델 만들기에 필요한 값 선언"
   ]
  },
  {
   "cell_type": "code",
   "execution_count": 15,
   "metadata": {
    "collapsed": true
   },
   "outputs": [],
   "source": [
    "MODEL_NAME = 'seq2seq_kor'\n",
    "BATCH_SIZE = 2\n",
    "MAX_SEQUENCE = 25\n",
    "EPOCH = 30\n",
    "UNITS = 1024\n",
    "EMBEDDING_DIM = 256\n",
    "VALIDATION_SPLIT = 0.1 \n",
    "\n",
    "char2idx = prepro_configs['char2idx']\n",
    "idx2char = prepro_configs['idx2char']\n",
    "std_index = prepro_configs['std_symbol'] # 시작 토큰\n",
    "end_index = prepro_configs['end_symbol'] # 종료 토큰\n",
    "vocab_size = prepro_configs['vocab_size']"
   ]
  },
  {
   "cell_type": "markdown",
   "metadata": {},
   "source": [
    "# 모델\n",
    "## 인코더"
   ]
  },
  {
   "cell_type": "code",
   "execution_count": 28,
   "metadata": {
    "collapsed": true
   },
   "outputs": [],
   "source": [
    "class Encoder(tf.keras.layers.Layer):\n",
    "    def __init__(self, vocab_size, embedding_dim, enc_units, batch_sz):\n",
    "        super(Encoder, self).__init__()\n",
    "        self.batch_sz = batch_sz\n",
    "        self.enc_units = enc_units\n",
    "        self.vocab_size = vocab_size\n",
    "        self.embedding_dim = embedding_dim\n",
    "        \n",
    "        self.embedding = tf.keras.layers.Embedding(self.vocab_size,\n",
    "                                                  self.embedding_dim)\n",
    "        \n",
    "        self.gru = tf.keras.layers.GRU(self.enc_units, # GRU의 output dim\n",
    "                                      return_sequences=True, # 각 시퀀스마다 출력을 반환할지 여부\n",
    "                                      return_state=True, # 마지막 상태 값 반환 여부\n",
    "                                      recurrent_initializer='glorot_uniform') # Xavier 초기화 (이전 노드와 다음 노드 개수에 의존함)\n",
    "    \n",
    "    def call(self, x, hidden):\n",
    "        x = self.embedding(x)\n",
    "        output, state = self.gru(x, initial_state=hidden)\n",
    "        return output, state\n",
    "\n",
    "    # 배치 크기를 받아 RNN의 초기에 사용될 크기의 은닉상태를 만듬\n",
    "    def initialize_hidden_state(self, inp):\n",
    "        return tf.zeros((tf.shape(inp)[0], self.enc_units))\n",
    "        \n",
    "        \n",
    "        "
   ]
  },
  {
   "cell_type": "markdown",
   "metadata": {},
   "source": [
    "## 어텐션\n",
    "- 기존 시퀀스투시퀀스 모델의 문제점\n",
    "    - 고정길이에 담으므로 정보의 손실이 있다.\n",
    "    - RNN 특유의 문제인 장기 의존성 문제\n",
    "- 기존 시퀀스투시퀀스는 인코더의 고정된 문맥 벡터가 디코더로 전달됨\n",
    "- 어텐션티 추가된 방법은 은닉 상태의 값을 어텐션을 통해 계산하고, 디코더의 각 시퀀스 스텝마다 계산된 어텐션을 입력으로 넣음\n",
    "    - 즉, 어텐션도 함께 학습을 진행하게 되며, 학습을 통해 디코더의 각 시퀀스 스텝마다 어텐션의 가중치는 다르게 적용됨"
   ]
  },
  {
   "cell_type": "code",
   "execution_count": 46,
   "metadata": {},
   "outputs": [],
   "source": [
    "class BahdanauAttention(tf.keras.layers.Layer):\n",
    "    def __init__(self, units):\n",
    "        super(BahdanauAttention, self).__init__()\n",
    "        self.W1 = tf.keras.layers.Dense(units) # units: 출력 크기\n",
    "        self.W2 = tf.keras.layers.Dense(units)\n",
    "        self.V = tf.keras.layers.Dense(1)\n",
    "    \n",
    "\n",
    "    def call(self, query, values): \n",
    "        # query: 인코더 RNN의 은닉 상태 값, values: 인코더 RNN의 결과값\n",
    "        \n",
    "        # query를 W2에 행렬곱을 할 수 있는 형태를 만듬\n",
    "        hidden_with_time_axis = tf.expand_dims(query, 1) \n",
    "        \n",
    "        # 최종적으로 1차원 벡터값이 나옴 (훈련중 가중치 W1, W2, V는 학습됨)\n",
    "        score = self.V(\n",
    "            tf.nn.tanh(self.W1(values) + \n",
    "                                  self.W2(hidden_with_time_axis)))\n",
    "        \n",
    "        # 모델이 중요하다고 판단하는 값은 1에 가까워지고,\n",
    "        # 영향도가 떨어질수록 0에 가까워짐\n",
    "        attention_weights = tf.nn.softmax(score, axis=1)\n",
    "        \n",
    "        # 어텐션 가중치와 values(RNN의 결과값) 행렬곱\n",
    "        # => 1에 가까운 값에 위치한 value의 값은 커지고,\n",
    "        #    0에 가까운 값에 위치한 value의 값은 작아짐\n",
    "        context_vector = attention_weights * values\n",
    "        context_vector = tf.reduce_sum(context_vector, axis=1)\n",
    "        \n",
    "        return context_vector, attention_weights\n",
    "        \n",
    "        \n",
    "        "
   ]
  },
  {
   "cell_type": "markdown",
   "metadata": {},
   "source": [
    "## 디코더"
   ]
  },
  {
   "cell_type": "code",
   "execution_count": 47,
   "metadata": {
    "collapsed": true
   },
   "outputs": [],
   "source": [
    "class Decoder(tf.keras.layers.Layer):\n",
    "    def __init__(self, vocab_size, embedding_dim, dec_units, batch_sz):\n",
    "        super(Decoder, self).__init__()\n",
    "        \n",
    "        self.batch_sz = batch_sz\n",
    "        self.dec_units = dec_units\n",
    "        self.vocab_size = vocab_size \n",
    "        self.embedding_dim = embedding_dim  \n",
    "        \n",
    "        self.embedding = tf.keras.layers.Embedding(self.vocab_size, self.embedding_dim)\n",
    "        self.gru = tf.keras.layers.GRU(self.dec_units,\n",
    "                                       return_sequences=True,\n",
    "                                       return_state=True,\n",
    "                                       recurrent_initializer='glorot_uniform')\n",
    "        self.fc = tf.keras.layers.Dense(self.vocab_size)\n",
    "\n",
    "        self.attention = BahdanauAttention(self.dec_units)\n",
    "        \n",
    "    def call(self, x, hidden, enc_output):\n",
    "        context_vector, attention_weights = self.attention(hidden, enc_output)\n",
    "\n",
    "        x = self.embedding(x)\n",
    "\n",
    "        # 문맥 벡터와 임베딩 벡터를 결합\n",
    "        x = tf.concat([tf.expand_dims(context_vector, 1), x], axis=-1)\n",
    "    \n",
    "        # 디코더의 RNN을 통해 결과값(output)을 얻게 됨\n",
    "        output, state = self.gru(x)\n",
    "        output = tf.reshape(output, (-1, output.shape[2]))\n",
    "            \n",
    "        # output을 FC 레이어에 통과시켜서 사전 크기의 벡터 x를 만든다.\n",
    "        x = self.fc(output)\n",
    "        \n",
    "        return x, state, attention_weights\n",
    "    "
   ]
  },
  {
   "cell_type": "code",
   "execution_count": 48,
   "metadata": {
    "collapsed": true
   },
   "outputs": [],
   "source": [
    "# 아담 최적화\n",
    "optimizer = tf.keras.optimizers.Adam()\n",
    "\n",
    "# 크로스 엔트로피 \n",
    "loss_object = tf.keras.losses.SparseCategoricalCrossentropy(from_logits=True, reduction='none')\n",
    "\n",
    "# 정확도 측정\n",
    "train_accuracy = tf.keras.metrics.SparseCategoricalAccuracy(name='accuracy')\n",
    "\n",
    "\n",
    "def loss(real, pred):\n",
    "    # <PAD>는 0, 값이 0이 아닌건 1로 변환\n",
    "    mask = tf.math.logical_not(tf.math.equal(real, 0)) # 0인건 <PAD>는 손실에서 빼기 위함\n",
    "    \n",
    "    loss_ = loss_object(real, pred)\n",
    "    mask = tf.cast(mask, dtype=loss_.dtype)\n",
    "    loss_ *= mask\n",
    "    return tf.reduce_mean(loss_)\n",
    "\n",
    "def accuracy(real, pred):\n",
    "    mask = tf.math.logical_not(tf.math.equal(real, 0))\n",
    "    mask = tf.expand_dims(tf.cast(mask, dtype=pred.dtype), axis=-1)\n",
    "    pred *= mask    \n",
    "    acc = train_accuracy(real, pred)\n",
    "\n",
    "    return tf.reduce_mean(acc)\n",
    "\n"
   ]
  },
  {
   "cell_type": "markdown",
   "metadata": {},
   "source": [
    "## 시퀀스 투 스퀀스 모델 (메인 클래스)"
   ]
  },
  {
   "cell_type": "code",
   "execution_count": 74,
   "metadata": {
    "collapsed": true
   },
   "outputs": [],
   "source": [
    "class seq2seq(tf.keras.Model):\n",
    "    def __init__(self, vocab_size, embedding_dim, enc_units, dec_units, batch_sz, end_token_idx=2):\n",
    "        super(seq2seq, self).__init__()\n",
    "        self.end_token_idx = end_token_idx\n",
    "        self.encoder = Encoder(vocab_size, embedding_dim, enc_units, batch_sz)\n",
    "        self.decoder = Decoder(vocab_size, embedding_dim, dec_units, batch_sz)\n",
    "    \n",
    "    def call(self, x):\n",
    "        inp, tar = x # question, answer\n",
    "        \n",
    "        enc_hidden = self.encoder.initialize_hidden_state(inp)\n",
    "        enc_output, enc_hidden = self.encoder(inp, enc_hidden)\n",
    "        \n",
    "        dec_hidden = enc_hidden\n",
    "        \n",
    "        # 디코더는 시퀀스의 최대길이만큼 반복하면서 디코더의 출력값을 만들어낸다.\n",
    "        predict_tokens = list() # 디코더의 출력값\n",
    "        for t in range(0, tar.shape[1]):\n",
    "            dec_input =  tf.dtypes.cast(tf.expand_dims(tar[:, t], 1), tf.float32) \n",
    "            predictions, dec_hidden, _ = self.decoder(dec_input, dec_hidden, enc_output)\n",
    "            predict_token = tf.argmax(predictions[0]) # 시퀀스마다 나온 결과값\n",
    "    \n",
    "            predict_tokens.append(tf.dtypes.cast(predictions, tf.float32))\n",
    "        \n",
    "        # 이건 손실, 정확도를 계산하는 용도로 쓰임\n",
    "        return tf.stack(predict_tokens, axis=1) \n",
    "    \n",
    "    def inference(self, x):\n",
    "        inp = x\n",
    "        enc_hidden = self.encoder.initialize_hidden_state(inp)\n",
    "        enc_output, enc_hidden = self.encoder(inp, enc_hidden)\n",
    "\n",
    "        dec_hidden = enc_hidden\n",
    "        \n",
    "        dec_input = tf.expand_dims([char2idx[std_index]], 1)\n",
    "        predict_tokens = list()\n",
    "        \n",
    "        for t in range(0, MAX_SEQUENCES):\n",
    "            predictions, dec_hidden, _ = self.decoder(dec_input, dec_hidden, enc_output)\n",
    "            predict_token = tf.argmax(predictions[0])\n",
    "            \n",
    "            if predict_token == self.end_token_idx:\n",
    "                break\n",
    "            \n",
    "            predict_tokens.append(predict_token)\n",
    "            dec_input = tf.dtypes.cast(tf.expand_dims([predict_token], 0), tf.float32)   \n",
    "        \n",
    "        return tf.stack(predict_tokens, axis=0).numpy()\n",
    "        \n",
    "    "
   ]
  },
  {
   "cell_type": "code",
   "execution_count": 75,
   "metadata": {},
   "outputs": [],
   "source": [
    "model = seq2seq(vocab_size, EMBEDDING_DIM, UNITS, UNITS, BATCH_SIZE, char2idx[end_index])\n",
    "model.compile(loss=loss, optimizer=tf.keras.optimizers.Adam(1e-3), metrics=[accuracy])\n",
    "#model.run_eagerly = True"
   ]
  },
  {
   "cell_type": "markdown",
   "metadata": {},
   "source": [
    "## 학습 진행"
   ]
  },
  {
   "cell_type": "code",
   "execution_count": 76,
   "metadata": {
    "collapsed": true
   },
   "outputs": [],
   "source": [
    "# 콜백 설정\n",
    "PATH = DATA_OUT_PATH + MODEL_NAME\n",
    "if not(os.path.isdir(PATH)):\n",
    "        os.makedirs(os.path.join(PATH))\n",
    "        \n",
    "checkpoint_path = DATA_OUT_PATH + MODEL_NAME + '/weights.h5'\n",
    "    \n",
    "cp_callback = ModelCheckpoint(\n",
    "    checkpoint_path, monitor='val_accuracy', verbose=1, save_best_only=True, save_weights_only=True)\n",
    "\n",
    "earlystop_callback = EarlyStopping(monitor='val_accuracy', min_delta=0.0001, patience=10)\n",
    "# min_delta: 모델의 val_accuarcy가 0.0001 보다 적은경우 개선되지 않았다고 판단 \n",
    "\n",
    "# 성능이 증가하지 않는다고, 그 순간 바로 멈추는 것은 효과적이지않을 수 있다. \n",
    "# patience 는 성능이 증가하지 않는 epoch 을 몇 번이나 허용할 것인가를 정의한다. \n",
    "# partience 는 다소 주관적인 기준이다. 사용한 데이터와 모델의 설계에 따라 최적의 값이 바뀔 수 있다. \n",
    "\n",
    "\n",
    "\n",
    "\n"
   ]
  },
  {
   "cell_type": "code",
   "execution_count": 81,
   "metadata": {},
   "outputs": [
    {
     "name": "stdout",
     "output_type": "stream",
     "text": [
      "Epoch 1/30\n",
      "9/9 [==============================] - 19s 2s/step - loss: 1.0304 - accuracy: 0.8600 - val_loss: 0.6138 - val_accuracy: 0.8600\n",
      "\n",
      "Epoch 00001: val_accuracy did not improve from 0.86123\n",
      "Epoch 2/30\n",
      "9/9 [==============================] - 19s 2s/step - loss: 0.7426 - accuracy: 0.8598 - val_loss: 0.6481 - val_accuracy: 0.8599\n",
      "\n",
      "Epoch 00002: val_accuracy did not improve from 0.86123\n",
      "Epoch 3/30\n",
      "9/9 [==============================] - 17s 2s/step - loss: 0.7255 - accuracy: 0.8599 - val_loss: 0.5752 - val_accuracy: 0.8598\n",
      "\n",
      "Epoch 00003: val_accuracy did not improve from 0.86123\n",
      "Epoch 4/30\n",
      "9/9 [==============================] - 17s 2s/step - loss: 0.7001 - accuracy: 0.8598 - val_loss: 0.5904 - val_accuracy: 0.8598\n",
      "\n",
      "Epoch 00004: val_accuracy did not improve from 0.86123\n",
      "Epoch 5/30\n",
      "9/9 [==============================] - 17s 2s/step - loss: 0.6728 - accuracy: 0.8598 - val_loss: 0.5618 - val_accuracy: 0.8597\n",
      "\n",
      "Epoch 00005: val_accuracy did not improve from 0.86123\n",
      "Epoch 6/30\n",
      "9/9 [==============================] - 17s 2s/step - loss: 0.6580 - accuracy: 0.8597 - val_loss: 0.5214 - val_accuracy: 0.8597\n",
      "\n",
      "Epoch 00006: val_accuracy did not improve from 0.86123\n",
      "Epoch 7/30\n",
      "9/9 [==============================] - 16s 2s/step - loss: 0.6609 - accuracy: 0.8598 - val_loss: 0.5211 - val_accuracy: 0.8598\n",
      "\n",
      "Epoch 00007: val_accuracy did not improve from 0.86123\n",
      "Epoch 8/30\n",
      "9/9 [==============================] - 17s 2s/step - loss: 0.6215 - accuracy: 0.8597 - val_loss: 0.5128 - val_accuracy: 0.8598\n",
      "\n",
      "Epoch 00008: val_accuracy did not improve from 0.86123\n",
      "Epoch 9/30\n",
      "9/9 [==============================] - 17s 2s/step - loss: 0.6140 - accuracy: 0.8597 - val_loss: 0.5063 - val_accuracy: 0.8598\n",
      "\n",
      "Epoch 00009: val_accuracy did not improve from 0.86123\n",
      "Epoch 10/30\n",
      "9/9 [==============================] - 17s 2s/step - loss: 0.6293 - accuracy: 0.8599 - val_loss: 0.4767 - val_accuracy: 0.8599\n",
      "\n",
      "Epoch 00010: val_accuracy did not improve from 0.86123\n",
      "Epoch 11/30\n",
      "9/9 [==============================] - 17s 2s/step - loss: 0.6278 - accuracy: 0.8597 - val_loss: 0.5093 - val_accuracy: 0.8598\n",
      "\n",
      "Epoch 00011: val_accuracy did not improve from 0.86123\n"
     ]
    }
   ],
   "source": [
    "\n",
    "history = model.fit([index_inputs, index_outputs], index_targets,\n",
    "                    batch_size=BATCH_SIZE, epochs=EPOCH,\n",
    "                    validation_split=VALIDATION_SPLIT, callbacks=[earlystop_callback, cp_callback])"
   ]
  },
  {
   "cell_type": "code",
   "execution_count": null,
   "metadata": {
    "collapsed": true
   },
   "outputs": [],
   "source": []
  },
  {
   "cell_type": "markdown",
   "metadata": {},
   "source": [
    "## 결과 플롯\n"
   ]
  },
  {
   "cell_type": "code",
   "execution_count": 82,
   "metadata": {},
   "outputs": [
    {
     "data": {
      "image/png": "[encoded data removed]",
      "text/plain": [
       "<Figure size 432x288 with 1 Axes>"
      ]
     },
     "metadata": {
      "needs_background": "light"
     },
     "output_type": "display_data"
    }
   ],
   "source": [
    "plot_graphs(history, 'accuracy')"
   ]
  },
  {
   "cell_type": "code",
   "execution_count": 83,
   "metadata": {},
   "outputs": [
    {
     "data": {
      "image/png": "[encoded data removed]",
      "text/plain": [
       "<Figure size 432x288 with 1 Axes>"
      ]
     },
     "metadata": {
      "needs_background": "light"
     },
     "output_type": "display_data"
    }
   ],
   "source": [
    "plot_graphs(history, 'loss')"
   ]
  },
  {
   "cell_type": "code",
   "execution_count": null,
   "metadata": {
    "collapsed": true
   },
   "outputs": [],
   "source": []
  },
  {
   "cell_type": "markdown",
   "metadata": {},
   "source": [
    "### 결과 확인"
   ]
  },
  {
   "cell_type": "code",
   "execution_count": 84,
   "metadata": {},
   "outputs": [],
   "source": [
    "SAVE_FILE_NM = \"weights.h5\"\n",
    "model.load_weights(os.path.join(DATA_OUT_PATH, MODEL_NAME, SAVE_FILE_NM))"
   ]
  },
  {
   "cell_type": "code",
   "execution_count": 87,
   "metadata": {},
   "outputs": [
    {
     "name": "stdout",
     "output_type": "stream",
     "text": [
      "[]\n",
      "\n"
     ]
    }
   ],
   "source": [
    "query = \"남자친구 승진 선물로 뭐가 좋을까?\"\n",
    "\n",
    "test_index_inputs, _ = enc_processing([query], char2idx)    \n",
    "predict_tokens = model.inference(test_index_inputs)\n",
    "print(predict_tokens)\n",
    "\n",
    "print(' '.join([idx2char[str(t)] for t in predict_tokens]))"
   ]
  },
  {
   "cell_type": "code",
   "execution_count": null,
   "metadata": {
    "collapsed": true
   },
   "outputs": [],
   "source": []
  },
  {
   "cell_type": "code",
   "execution_count": null,
   "metadata": {
    "collapsed": true
   },
   "outputs": [],
   "source": []
  }
 ],
 "metadata": {
  "kernelspec": {
   "display_name": "tf2",
   "language": "python",
   "name": "tf2"
  },
  "language_info": {
   "codemirror_mode": {
    "name": "ipython",
    "version": 3
   },
   "file_extension": ".py",
   "mimetype": "text/x-python",
   "name": "python",
   "nbconvert_exporter": "python",
   "pygments_lexer": "ipython3",
   "version": "3.6.12"
  }
 },
 "nbformat": 4,
 "nbformat_minor": 2
}
