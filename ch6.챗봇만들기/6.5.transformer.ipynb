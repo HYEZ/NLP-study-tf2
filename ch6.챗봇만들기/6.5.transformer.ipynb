{
 "cells": [
  {
   "cell_type": "markdown",
   "metadata": {},
   "source": [
    "\n",
    "\n",
    "# 트랜스포머 네트워크 모듈 목룍\n",
    "1. 멀티헤드 어텐션 (Multi-head attention)\n",
    "2. 서브시퀀트 마스크 어텐션 (Subsequent masked attention)\n",
    "3. 포지션-와이드 피드 포워드 네트워크 (Position-wise feed fowrd network)\n",
    "4. 리지듀얼 커넥션(Residual connection)\n"
   ]
  },
  {
   "cell_type": "markdown",
   "metadata": {
    "collapsed": true
   },
   "source": [
    "***\n",
    "\n",
    "# 모듈 불러오기"
   ]
  },
  {
   "cell_type": "code",
   "execution_count": 1,
   "metadata": {
    "collapsed": true
   },
   "outputs": [],
   "source": [
    "import tensorflow as tf\n",
    "import numpy as np\n",
    "\n",
    "from konlpy.tag import Twitter\n",
    "import pandas as pd\n",
    "import tensorflow as tf\n",
    "import enum\n",
    "import os\n",
    "import re\n",
    "import json\n",
    "from sklearn.model_selection import train_test_split\n",
    "\n",
    "from tensorflow.keras.callbacks import EarlyStopping, ModelCheckpoint\n",
    "import matplotlib.pyplot as plt\n",
    "\n",
    "from preprocess import *"
   ]
  },
  {
   "cell_type": "markdown",
   "metadata": {},
   "source": [
    "# 시각화 함수"
   ]
  },
  {
   "cell_type": "code",
   "execution_count": 2,
   "metadata": {
    "collapsed": true
   },
   "outputs": [],
   "source": [
    "def plot_graphs(history, string):\n",
    "    plt.plot(history.history[string])\n",
    "    plt.plot(history.history['val_'+string], '')\n",
    "    plt.xlabel(\"Epochs\")\n",
    "    plt.ylabel(string)\n",
    "    plt.legend([string, 'val_'+string])\n",
    "    plt.show()"
   ]
  },
  {
   "cell_type": "markdown",
   "metadata": {},
   "source": [
    "# 학습 데이터 경로 정의"
   ]
  },
  {
   "cell_type": "code",
   "execution_count": 3,
   "metadata": {
    "collapsed": true
   },
   "outputs": [],
   "source": [
    "DATA_IN_PATH = './data_in/'\n",
    "DATA_OUT_PATH = './data_out/'\n",
    "TRAIN_INPUTS = 'train_inputs.npy'\n",
    "TRAIN_OUTPUTS = 'train_outputs.npy'\n",
    "TRAIN_TARGETS = 'train_targets.npy'\n",
    "DATA_CONFIGS = 'data_configs.json'"
   ]
  },
  {
   "cell_type": "markdown",
   "metadata": {},
   "source": [
    "# 랜덤 시드 고정"
   ]
  },
  {
   "cell_type": "code",
   "execution_count": 4,
   "metadata": {
    "collapsed": true
   },
   "outputs": [],
   "source": [
    "SEED_NUM = 1234\n",
    "tf.random.set_seed(SEED_NUM)"
   ]
  },
  {
   "cell_type": "markdown",
   "metadata": {},
   "source": [
    "# 파일 로드"
   ]
  },
  {
   "cell_type": "code",
   "execution_count": 5,
   "metadata": {
    "collapsed": true
   },
   "outputs": [],
   "source": [
    "# 인코더의 입력 (즉, question)\n",
    "index_inputs = np.load(open(DATA_IN_PATH + TRAIN_INPUTS, 'rb'))\n",
    "\n",
    "# 디코더의 입력 (즉, answer)\n",
    "index_outputs = np.load(open(DATA_IN_PATH + TRAIN_OUTPUTS , 'rb'))\n",
    "\n",
    "# 디코더의 타겟 (즉, answer)\n",
    "index_targets = np.load(open(DATA_IN_PATH + TRAIN_TARGETS , 'rb'))\n",
    "\n",
    "# word2idx, idx2word, vocab_size, 기호 인덱스(pad, std, end, unk)\n",
    "prepro_configs = json.load(open(DATA_IN_PATH + DATA_CONFIGS, 'r'))"
   ]
  },
  {
   "cell_type": "code",
   "execution_count": 21,
   "metadata": {},
   "outputs": [
    {
     "name": "stdout",
     "output_type": "stream",
     "text": [
      "[ 7237 19975     0     0     0     0     0     0     0     0     0     0\n",
      "     0     0     0     0     0     0     0     0     0     0     0     0\n",
      "     0]\n",
      "[    1  1092  6458  5726 17918     0     0     0     0     0     0     0\n",
      "     0     0     0     0     0     0     0     0     0     0     0     0\n",
      "     0]\n",
      "[ 1092  6458  5726 17918     2     0     0     0     0     0     0     0\n",
      "     0     0     0     0     0     0     0     0     0     0     0     0\n",
      "     0]\n",
      "11823 (11823, 25)\n",
      "11823 (11823, 25)\n",
      "11823 (11823, 25)\n"
     ]
    }
   ],
   "source": [
    "print(index_inputs[0]) # 인코더의 입력\n",
    "print(index_outputs[0]) # 디코더의 입력\n",
    "print(index_targets[0]) # 디코더의 타겟\n",
    "print(len(index_inputs), index_inputs.shape )\n",
    "print(len(index_outputs), index_outputs.shape)\n",
    "print(len(index_targets), index_targets.shape)"
   ]
  },
  {
   "cell_type": "markdown",
   "metadata": {},
   "source": [
    "# 모델 하이퍼파라미터 정의"
   ]
  },
  {
   "cell_type": "code",
   "execution_count": 24,
   "metadata": {},
   "outputs": [],
   "source": [
    "char2idx = prepro_configs['char2idx']\n",
    "end_index = prepro_configs['end_symbol']\n",
    "vocab_size = prepro_configs['vocab_size']\n",
    "model_name = \"transformer\"\n",
    "BATCH_SIZE = 2\n",
    "MAX_SEQUENCE = 25\n",
    "EPOCHS = 3 #30\n",
    "VALID_SPLIT = 0.1\n",
    "\n",
    "kargs = {\n",
    "    'model_name': model_name,\n",
    "    'num_layers': 2,\n",
    "    'd_model': 512, # key, query, value의 차원\n",
    "    'num_heads': 8, # 어텐션 헤드 수\n",
    "    'dff': 2048, # position-wise FFN 차원 수\n",
    "    'input_vocab_size': vocab_size,\n",
    "    'target_vocab_size': vocab_size,\n",
    "    'maximum_position_encoding': MAX_SEQUENCE, # 25\n",
    "    'end_token_idx': char2idx[end_index],\n",
    "    'rate':0.1\n",
    "}"
   ]
  },
  {
   "cell_type": "markdown",
   "metadata": {},
   "source": [
    "# 모델 선언 및 컴파일"
   ]
  },
  {
   "cell_type": "markdown",
   "metadata": {},
   "source": [
    "## 1) 패딩 및 포워드 마스킹 "
   ]
  },
  {
   "cell_type": "code",
   "execution_count": 132,
   "metadata": {
    "collapsed": true
   },
   "outputs": [],
   "source": [
    "def create_padding_mask(seq):\n",
    "    seq = tf.cast(tf.math.equal(seq, 0), tf.float32)\n",
    "\n",
    "    # add extra dimensions to add the padding\n",
    "    # to the attention logits.\n",
    "    # 남은 차원을 0으로 채움\n",
    "    return seq[:, tf.newaxis, tf.newaxis, :]  # (batch_size, 1, 1, seq_len)\n",
    "\n"
   ]
  },
  {
   "cell_type": "code",
   "execution_count": 133,
   "metadata": {
    "collapsed": true
   },
   "outputs": [],
   "source": [
    "# 순방향으로 어텐션 맵을 마스킹한다.\n",
    "# 순방햐 어텐션 시 (즉 순서가있는 단어에 대한 관계) 사용하는 순방향 마스크\n",
    "def create_look_ahead_mask(size):\n",
    "    # 마스킹할 영역은 1, 아닌 영역은 0으로 만든다.\n",
    "    # 즉, 아래쪽 삼각형이 0이 되는 하삼각행렬을 만듬\n",
    "    \n",
    "    # tf.ones 로 모든 값이 1인 행렬 만듬\n",
    "    # 그 다음 아래쪽 삼각형을 0으로 채움\n",
    "    # (input, 0, -1) ==> Upper triangular part.\n",
    "    # (input, -1, 0) ==> Lower triangular part. 즉, 우리는 아래쪽을 0으로 채울거라서 이거 사용\n",
    "    mask = 1 - tf.linalg.band_part(tf.ones((size, size)), -1, 0) # 입력행렬, -1, 0\n",
    "    return mask # (seq_len, seq_len)\n",
    "    "
   ]
  },
  {
   "cell_type": "code",
   "execution_count": 134,
   "metadata": {
    "collapsed": true
   },
   "outputs": [],
   "source": [
    "def create_masks(inp, tar):\n",
    "    # Encoder padding mask\n",
    "    enc_padding_mask = create_padding_mask(inp)\n",
    "\n",
    "    # Used in the 2nd attention block in the decoder.\n",
    "    # This padding mask is used to mask the encoder outputs.\n",
    "    dec_padding_mask = create_padding_mask(inp)\n",
    "\n",
    "    # Used in the 1st attention block in the decoder.\n",
    "    # It is used to pad and mask future tokens in the input received by \n",
    "    # the decoder.\n",
    "    look_ahead_mask = create_look_ahead_mask(tf.shape(tar)[1])\n",
    "    dec_target_padding_mask = create_padding_mask(tar)\n",
    "    combined_mask = tf.maximum(dec_target_padding_mask, look_ahead_mask)\n",
    "\n",
    "    return enc_padding_mask, combined_mask, dec_padding_mask\n"
   ]
  },
  {
   "cell_type": "code",
   "execution_count": 135,
   "metadata": {
    "collapsed": true
   },
   "outputs": [],
   "source": [
    "enc_padding_mask, look_ahead_mask, dec_padding_mask = create_masks(index_inputs, index_outputs)\n"
   ]
  },
  {
   "cell_type": "markdown",
   "metadata": {},
   "source": [
    "## 2) 포지셔널 인코딩"
   ]
  },
  {
   "cell_type": "code",
   "execution_count": 136,
   "metadata": {
    "collapsed": true
   },
   "outputs": [],
   "source": [
    "# 각 순서에 따른 sin, cos 함수 각도값 얻기\n",
    "# pos: 포지션에 대한 인덱스 위치 리스트\n",
    "# i: 차원에 대한 리스트\n",
    "def get_angles(pos, i, d_model):\n",
    "    angle_rates = 1 / np.power(10000, (2*i//2) / np.float32(d_model))\n",
    "    return pos * angle_rates\n",
    "    \n",
    "    "
   ]
  },
  {
   "cell_type": "code",
   "execution_count": 137,
   "metadata": {
    "collapsed": true
   },
   "outputs": [],
   "source": [
    "# 포지션 임베딩 만들기\n",
    "def positional_encoding(position, d_model): # 25, 512\n",
    "    angle_rads = get_angles(np.arange(position)[:, np.newaxis],\n",
    "                          np.arange(d_model)[np.newaxis, :],\n",
    "                          d_model)\n",
    "    print(np.arange(position)[:, np.newaxis].shape)\n",
    "    print(np.arange(d_model)[np.newaxis, :].shape)\n",
    "    print(angle_rads.shape)\n",
    "    \n",
    "    # 짝수 => sin\n",
    "    angle_rads[:, 0::2] = np.sin(angle_rads[:, 0::2])\n",
    "    \n",
    "    # 홀수 => cos\n",
    "    angle_rads[:, 1::2] = np.cos(angle_rads[:, 1::2])\n",
    "\n",
    "    pos_encoding = angle_rads[np.newaxis, ...]\n",
    "    print(pos_encoding.shape)\n",
    "#     print(type(pos_encoding))\n",
    "\n",
    "    # (배치차원, 시퀀스차원, 피처차원)\n",
    "    return tf.cast(pos_encoding, dtype=tf.float32) # 넘파이를 텐서로 바꿈\n",
    "    \n",
    "    \n",
    "    \n",
    "    "
   ]
  },
  {
   "cell_type": "code",
   "execution_count": 138,
   "metadata": {
    "scrolled": true
   },
   "outputs": [
    {
     "name": "stdout",
     "output_type": "stream",
     "text": [
      "(50, 1)\n",
      "(1, 512)\n",
      "(50, 512)\n",
      "(1, 50, 512)\n"
     ]
    },
    {
     "data": {
      "image/png": "[encoded data removed]",
      "text/plain": [
       "<Figure size 432x288 with 2 Axes>"
      ]
     },
     "metadata": {
      "needs_background": "light"
     },
     "output_type": "display_data"
    }
   ],
   "source": [
    "pos_encoding = positional_encoding(50, 512)\n",
    "# print(type(pos_encoding))\n",
    "# print(pos_encoding)\n",
    "\n",
    "\n",
    "plt.pcolormesh(pos_encoding[0], cmap='RdBu')\n",
    "plt.xlabel('Depth')\n",
    "plt.xlim((0, 512))\n",
    "plt.ylabel('Position')\n",
    "plt.colorbar()\n",
    "plt.show()\n",
    "\n",
    "# 이 차트 보면.. \n",
    "# depth 깊어질수록 임베딩 뒤차원의 값은 거의 0..\n",
    "# position은 뒤로 갈수록(커질수록) 값이 depth 앞차원쪽에 몰려있음. (뒤차원 0값이 늘어남)\n",
    "# 그리고 depth 커질수록 임베딩값 커졌다 작아졌다 하는걸 보니깐 짝수, 홀수에 대한 값 같음\n"
   ]
  },
  {
   "cell_type": "code",
   "execution_count": 139,
   "metadata": {},
   "outputs": [
    {
     "name": "stdout",
     "output_type": "stream",
     "text": [
      "(1, 50, 512)\n",
      "tf.Tensor(\n",
      "[ 0.74511313 -0.01696658  0.77540296  0.98017985 -0.4584321   0.41773638\n",
      " -0.97571594 -0.75848997 -0.08096503 -0.85950977  0.9098894   0.16715014\n",
      "  0.72961646  0.97059757 -0.31582433  0.64047223 -0.98867553 -0.37475243\n",
      " -0.614248   -0.98942447  0.35331333 -0.65338385  0.97517693  0.25396407\n",
      "  0.74632543  0.9288744  -0.07532834  0.86676145 -0.81969917  0.17801827\n",
      " -0.97031087 -0.6131116  -0.4816219  -0.9948548   0.28823665 -0.7780549\n",
      "  0.8719563  -0.13799322  0.9741002   0.554764    0.58845377  0.9605351\n",
      " -0.05916608  0.9233052  -0.66180307  0.50070816 -0.9786478  -0.10452747\n",
      " -0.91676193 -0.65306264 -0.53441375 -0.96277225  0.011204   -0.95794374\n",
      "  0.53617764 -0.6705424   0.8916597  -0.20785695  0.99892426  0.29322684\n",
      "  0.85547256  0.70800424  0.5193704   0.95161617  0.08264565  0.9898257\n",
      " -0.35625705  0.835475   -0.714187    0.5358223  -0.9361187   0.15628901\n",
      " -0.9991225  -0.23496167 -0.9093901  -0.5788873  -0.6949922  -0.83278114\n",
      " -0.39695632 -0.9730023  -0.06067956 -0.9941314   0.2710514  -0.90576386\n",
      "  0.56285983 -0.72812814  0.7893634  -0.48749506  0.9358551  -0.2120543\n",
      "  0.9975618   0.07136068  0.9779955   0.33955568  0.88686115  0.5742999\n",
      "  0.7378857   0.76282924  0.5468241   0.89771795  0.32979187  0.9763159\n",
      "  0.10199121  0.99993193 -0.12316566  0.97290987 -0.3345741   0.90170974\n",
      " -0.5236545   0.79406613 -0.6843387   0.65827096 -0.8128914   0.502597\n",
      " -0.90762764  0.3348657  -0.9685745   0.16214868 -0.9971171  -0.00941578\n",
      " -0.99565434 -0.17471014 -0.96728545 -0.32965085 -0.9155361  -0.47114688\n",
      " -0.8441293  -0.5970206  -0.7568025  -0.705906   -0.65716684 -0.79713476\n",
      " -0.54860556 -0.8706205  -0.4342053  -0.926746   -0.31671542 -0.9662586\n",
      " -0.1985297  -0.9901761  -0.08168498 -0.99970454  0.032127   -0.9961683\n",
      "  0.14153892 -0.9809521   0.24548115 -0.95545375  0.34315172 -0.9210476\n",
      "  0.4339848  -0.8790567   0.5176193  -0.8307319   0.59386843 -0.7772387\n",
      "  0.66269153 -0.7196481   0.7241675  -0.65893257  0.77847177 -0.59596515\n",
      "  0.8258547  -0.531521    0.8666241  -0.46628124  0.9011289  -0.40083763\n",
      "  0.92974603 -0.33569875  0.95286924 -0.27129626  0.97089964 -0.20799169\n",
      "  0.98423845 -0.14608313  0.9932807  -0.08581182  0.998411   -0.02736848\n",
      "  0.99999934  0.02910067  0.9983992   0.08348837  0.9939451   0.13572112\n",
      "  0.98695207  0.1857545   0.9777144   0.23356885  0.9665061   0.2791655\n",
      "  0.95358074  0.32256326  0.9391719   0.36379537  0.9234939   0.40290692\n",
      "  0.90674275  0.4399524   0.8890967   0.47499365  0.87071747  0.5080982\n",
      "  0.85175127  0.53933746  0.8323297   0.56878597  0.8125709   0.5965196\n",
      "  0.7925804   0.6226152   0.77245235  0.6471495   0.75227     0.67019856\n",
      "  0.73210704  0.6918373   0.7120283   0.71213895  0.69209045  0.7311749\n",
      "  0.67234284  0.74901426  0.652828    0.76572376  0.63358265  0.78136766\n",
      "  0.6146379   0.7960076   0.59602004  0.8097024   0.57775104  0.82250834\n",
      "  0.5598487   0.83447903  0.5423276   0.8456653   0.52519894  0.85611546\n",
      "  0.5084713   0.8658753   0.4921508   0.8749881   0.47624126  0.8834946\n",
      "  0.46074465  0.8914336   0.44566125  0.8988413   0.43098992  0.905752\n",
      "  0.4167282   0.91219795  0.4028725   0.9182093   0.38941833  0.9238146\n",
      "  0.37636036  0.9290405   0.36369252  0.93391204  0.35140824  0.9384527\n",
      "  0.33950043  0.94268453  0.3279616   0.94662803  0.31678393  0.9503025\n",
      "  0.30595943  0.95372605  0.29547977  0.95691544  0.28533664  0.95988655\n",
      "  0.27552158  0.9626541   0.26602602  0.9652318   0.2568415   0.9676326\n",
      "  0.24795951  0.9698684   0.23937157  0.9719506   0.23106933  0.97388947\n",
      "  0.22304448  0.9756949   0.21528888  0.9773759   0.20779444  0.97894114\n",
      "  0.20055327  0.9803984   0.19355758  0.98175514  0.18679976  0.9830183\n",
      "  0.18027237  0.98419416  0.1739681   0.9852888   0.16787985  0.98630786\n",
      "  0.16200067  0.98725647  0.1563238   0.98813945  0.15084264  0.9889614\n",
      "  0.14555077  0.9897265   0.14044195  0.9904386   0.13551015  0.99110144\n",
      "  0.13074942  0.9917184   0.12615407  0.99229264  0.12171854  0.9928271\n",
      "  0.11743746  0.9933245   0.11330559  0.9937875   0.10931788  0.9942184\n",
      "  0.10546941  0.9946195   0.10175545  0.99499273  0.09817138  0.9953401\n",
      "  0.09471277  0.9956634   0.09137529  0.9959643   0.08815479  0.9962443\n",
      "  0.08504721  0.9965049   0.08204866  0.99674743  0.07915538  0.9969731\n",
      "  0.07636371  0.99718314  0.07367012  0.99737865  0.07107121  0.99756056\n",
      "  0.06856368  0.9977299   0.06614435  0.99788743  0.06381016  0.99803406\n",
      "  0.06155812  0.9981705   0.05938536  0.99829745  0.05728912  0.99841565\n",
      "  0.05526672  0.9985256   0.05331556  0.99862796  0.05143318  0.9987232\n",
      "  0.04961713  0.99881184  0.0478651   0.99889433  0.04617485  0.99897105\n",
      "  0.04454421  0.9990425   0.04297108  0.99910897  0.04145344  0.9991708\n",
      "  0.03998933  0.99922836  0.03857689  0.99928194  0.03721429  0.9993318\n",
      "  0.03589977  0.99937814  0.03463165  0.99942136  0.03340828  0.99946153\n",
      "  0.0322281   0.9994989   0.03108959  0.99953365  0.02999127  0.9995661\n",
      "  0.02893173  0.9995962   0.0279096   0.9996242   0.02692356  0.9996503\n",
      "  0.02597234  0.99967456  0.02505472  0.99969715  0.0241695   0.9997182\n",
      "  0.02331555  0.99973774  0.02249176  0.999756    0.02169706  0.9997729\n",
      "  0.02093044  0.9997887   0.02019089  0.99980336  0.01947747  0.999817\n",
      "  0.01878925  0.9998297   0.01812534  0.9998415   0.01748489  0.99985254\n",
      "  0.01686706  0.9998628   0.01627106  0.99987227  0.01569611  0.99988115\n",
      "  0.01514148  0.99988943  0.01460645  0.99989706  0.01409031  0.9999042\n",
      "  0.01359241  0.9999109   0.01311211  0.9999171   0.01264877  0.9999228\n",
      "  0.01220181  0.9999282   0.01177064  0.9999332   0.0113547   0.99993783\n",
      "  0.01095346  0.9999421   0.0105664   0.9999461   0.01019301  0.9999499\n",
      "  0.00983282  0.9999534   0.00948535  0.9999566   0.00915017  0.9999596\n",
      "  0.00882682  0.99996245  0.0085149   0.999965    0.00821401  0.99996746\n",
      "  0.00792374  0.9999697   0.00764374  0.9999718   0.00737362  0.9999738\n",
      "  0.00711306  0.9999756   0.0068617   0.9999773   0.00661922  0.99997884\n",
      "  0.00638531  0.99998033  0.00615967  0.9999817   0.005942    0.99998295\n",
      "  0.00573202  0.99998415  0.00552946  0.9999853   0.00533406  0.9999863\n",
      "  0.00514557  0.99998724  0.00496373  0.99998814  0.00478832  0.9999889\n",
      "  0.00461911  0.9999897   0.00445588  0.9999904   0.00429842  0.99999106\n",
      "  0.00414652  0.9999917 ], shape=(512,), dtype=float32)\n"
     ]
    }
   ],
   "source": [
    "print(pos_encoding.shape)\n",
    "print(pos_encoding[0, 40]) "
   ]
  },
  {
   "cell_type": "markdown",
   "metadata": {},
   "source": [
    "## 3) 어텐션"
   ]
  },
  {
   "cell_type": "code",
   "execution_count": 191,
   "metadata": {
    "collapsed": true
   },
   "outputs": [],
   "source": [
    "# qurey, key, value가 각각 단어벡터가 모인 행렬로 들어옴\n",
    "def scaled_dot_product_attention(q, k, v, mask):\n",
    "    # query와 key 내적\n",
    "    matmul_qk = tf.matmul(q, k, transpose_b=True)   # (..., seq_len_q, seq_len_k) \n",
    "    \n",
    "    # 스케일링\n",
    "    dk = tf.cast(tf.shape(k)[-1], tf.float32) # k의 차원\n",
    "    scaled_attention_logits = matmul_qk / tf.math.sqrt(dk)\n",
    "    \n",
    "    # 마스크\n",
    "    if mask is not None:\n",
    "        # 마스킹된 부분(1) * -10^9 하면 10^9 값을 빼줄 수 있게 됨 \n",
    "        # => 마스킹 된 부분의 어텐션 점수가 매우 작아짐 (매우 작은 음수값 가짐)\n",
    "        # => softmax 취하면 거의 0에 수렴함\n",
    "        scaled_attention_logits += (mask * -1e9)\n",
    "        \n",
    "    # softmax 취해서 어텐션 점수 구하기\n",
    "    attention_weights = tf.nn.softmax(scaled_attention_logits, axis=1)   # (..., seq_len_q, seq_len_k)\n",
    "    \n",
    "    # 어텐션 점수와 value 가중합 구하기\n",
    "    output = tf.matmul(attention_weights, v) # (..., seq_len_q, depth_v)\n",
    "    \n",
    "    # 문맥 벡터, 어텐션 점수 리턴\n",
    "    return output, attention_weights \n",
    "    \n",
    "    "
   ]
  },
  {
   "cell_type": "markdown",
   "metadata": {},
   "source": [
    "## 4) 멀티헤드 어텐션"
   ]
  },
  {
   "cell_type": "code",
   "execution_count": 192,
   "metadata": {
    "collapsed": true
   },
   "outputs": [],
   "source": [
    "class MultiHeadAttention(tf.keras.layers.Layer):\n",
    "    def __init__(self, **kargs):\n",
    "        super(MultiHeadAttention, self).__init__()\n",
    "        # 어텐션 헤드 수\n",
    "        self.num_heads = kargs['num_heads'] # 여기서는 8개\n",
    "        \n",
    "        # key, query, value에 대한 차원을 정의하기 위한 파라미터\n",
    "        # => 어텐션 헤드 수만큼 나눠지는 것!\n",
    "        self.d_model = kargs['d_model'] # 512 \n",
    "        \n",
    "        # 따라서 d_model // num_heads 했을때 나머지가 발생하면 안된다.\n",
    "        # assert는 값이 false이면 에러 발생시킴. 즉 나머지 발생 시 에러남\n",
    "        assert self.d_model % self.num_heads == 0\n",
    "        \n",
    "        # 나머지가 0이면, 그 나눈 값을 depth에 저장함\n",
    "        # depth는 각 헤드에 입력될 벡터의 차원 수이다. (512//8=64)\n",
    "        self.depth = self.d_model // self.num_heads\n",
    "        \n",
    "        # key, query, value에 대한 차원 수를 맞추기 위함\n",
    "        # 스케일 내적 어텐션 연산 이전에 있는 Linear\n",
    "        self.wq = tf.keras.layers.Dense(kargs['d_model'])\n",
    "        self.wk = tf.keras.layers.Dense(kargs['d_model'])\n",
    "        self.wv = tf.keras.layers.Dense(kargs['d_model'])\n",
    "        \n",
    "        # 셀프 어텐션 마지막 출력 레이어\n",
    "        self.dense = tf.keras.layers.Dense(kargs['d_model'])\n",
    "        \n",
    "    \n",
    "    # 각 key, query, value에 대한 벡터를 어텐션 헤드 수만큼 분리하는 함수\n",
    "    # (배치차원, 시퀀스차원, 피처차원) => (배치차원, 헤드차원, 시퀀스차원, 피처차원)\n",
    "    def split_heads(self, x, batch_size):\n",
    "        \n",
    "        # num_heads, depth : 하이퍼 파리미터 (이미 정해짐)\n",
    "        # 시퀀스크기 : 학습하는 도중 배치 데이터의 시퀀스 길이가 매번 바뀔 수도 있음 \n",
    "        # => 따라서 시퀀스 길이는 -1 로 정하고, batch_size값을 알아야하므로 인자로 정의하게 됨\n",
    "        #       *** 참고) tf.reshape은 값을 하나만 모를 경우 가능 \n",
    "        # (배치차원, 시퀀스차원, 헤드차원, 피처차원)으로 리턴\n",
    "        x = tf.reshape(x, (batch_size, -1, self.num_heads, self.depth))\n",
    "        \n",
    "        # (배치차원, 헤드차원, 시퀀스차원, 피처차원) 으로 바꿔줌\n",
    "        return tf.transpose(x, perm=[0, 2, 1, 3]) \n",
    "    \n",
    "    def call(self, v, k, q, mask):\n",
    "        batch_size = tf.shape(q)[0] # batch_size\n",
    "        \n",
    "        q = self.wq(q) # (batch_size, seq_len, d_model=512)\n",
    "        k = self.wq(k) # (batch_size, seq_len, d_model)\n",
    "        v = self.wq(v) # (batch_size, seq_len, d_model)\n",
    "        \n",
    "        q = self.split_heads(q, batch_size) # (batch_size, num_heads, seq_len_q, depth=d_model/num_heads=64)\n",
    "        k = self.split_heads(k, batch_size) # (batch_size, num_heads, seq_len_k, depth)\n",
    "        v = self.split_heads(v, batch_size) # (batch_size, num_heads, seq_len_v, depth)\n",
    "        \n",
    "        # 내적 어텐션 적용 => 각 시퀀스마다 단어에 대한 context vector 구해짐 * 어텐션헤드 수\n",
    "        # scaled_attention.shape == (batch_size, num_heads, seq_len_q, depth)\n",
    "        # attention_weights.shape == (batch_size, num_heads, seq_len_q, seq_len_k)\n",
    "        scaled_attention, attention_weights = scaled_dot_product_attention(q, k, v, mask)\n",
    "        \n",
    "        # (batch_size, seq_len_q, num_heads, depth)\n",
    "        scaled_attention = tf.transpose(scaled_attention, perm=[0, 2, 1, 3])\n",
    "        \n",
    "        # 모든 어텐션 헤드 concat\n",
    "        # (batch_size, seq_len_q, d_model)\n",
    "        concat_attention = tf.reshape(scaled_attention, \n",
    "                                     (batch_size, -1, self.d_model))\n",
    "        \n",
    "        # 마지막 dense 레이어로 출력 (멀티 헤드 어텐션 벡터 출력)\n",
    "        # (batch_size, seq_len_q, d_model)\n",
    "        output = self.dense(concat_attention)\n",
    "        \n",
    "        return output, attention_weights\n",
    "        \n",
    "        "
   ]
  },
  {
   "cell_type": "markdown",
   "metadata": {},
   "source": [
    "## 5) 포인트 와이즈 피드포워드 네트워크 "
   ]
  },
  {
   "cell_type": "code",
   "execution_count": 193,
   "metadata": {},
   "outputs": [],
   "source": [
    "def point_wise_feed_forward_network(**kargs):\n",
    "    return tf.keras.Sequential([\n",
    "        # (batch_size, seq_len, dff=2048)\n",
    "        tf.keras.layers.Dense(kargs['dff'], activation='relu'),\n",
    "        \n",
    "        # (batch_size, seq_len, d_model)\n",
    "        tf.keras.layers.Dense(kargs['d_model'])\n",
    "    ])"
   ]
  },
  {
   "cell_type": "markdown",
   "metadata": {},
   "source": [
    "## 인코더 레이어"
   ]
  },
  {
   "cell_type": "code",
   "execution_count": 194,
   "metadata": {
    "collapsed": true
   },
   "outputs": [],
   "source": [
    "# 여러개의 인코더 레이어를 쌓을 수 있도록 준비\n",
    "class EncoderLayer(tf.keras.layers.Layer):\n",
    "    def __init__(self, **kargs):\n",
    "        super(EncoderLayer, self).__init__()\n",
    "        \n",
    "        self.mha = MultiHeadAttention(**kargs)\n",
    "        self.ffn = point_wise_feed_forward_network(**kargs)\n",
    "        \n",
    "        self.layernorm1 = tf.keras.layers.LayerNormalization(epsilon=1e-6)\n",
    "        self.layernorm2 = tf.keras.layers.LayerNormalization(epsilon=1e-6)\n",
    "        \n",
    "        # 오버피팅 막고 모델 일반화를 위해 드롭아웃 적용\n",
    "        self.dropout1 = tf.keras.layers.Dropout(kargs['rate'])\n",
    "        self.dropout2 = tf.keras.layers.Dropout(kargs['rate'])\n",
    "    \n",
    "    def call(self, x, mask):\n",
    "        \n",
    "        # 1-1. 멀티 헤드 어텐션에 넣기\n",
    "        # (batch_size, input_seq_len, d_model)\n",
    "        # 셀프 어텐션을 하기 때문에 v, k, q가 모두 동일함\n",
    "        attn_output, _ = self.mha(x, x, x, mask) # v, k, q, mask\n",
    "        # 1-2. 드롭아웃\n",
    "        attn_output = self.dropout1(attn_output)\n",
    "        # 1-3. 리지듀얼 커넥션 + 층정규화\n",
    "        out1 = self.layernorm1(x + attn_output) # (batch_size, input_seq_len, d_model)\n",
    "        \n",
    "        # 2-1. FFN\n",
    "        # (batch_size, input_seq_len, d_model)\n",
    "        ffn_output = self.ffn(out1)\n",
    "        # 2-2. 드롭아웃\n",
    "        ffn_output = self.dropout2(ffn_output)\n",
    "        # 2-3. 리지듀얼 커넥션 + 층정규화\n",
    "        out2 = self.layernorm2(out1 + ffn_output) \n",
    "        \n",
    "        # (batch_size, input_seq_len, d_model)\n",
    "        return out2\n",
    "        \n",
    "        \n",
    "        "
   ]
  },
  {
   "cell_type": "markdown",
   "metadata": {},
   "source": [
    "## 디코더 레이어"
   ]
  },
  {
   "cell_type": "code",
   "execution_count": 195,
   "metadata": {
    "collapsed": true
   },
   "outputs": [],
   "source": [
    "class DecoderLayer(tf.keras.layers.Layer):\n",
    "    def __init__(self, **kargs):\n",
    "        super(DecoderLayer, self).__init__()\n",
    "        \n",
    "        self.mha1 = MultiHeadAttention(**kargs)\n",
    "        self.mha2 = MultiHeadAttention(**kargs)\n",
    "        \n",
    "        self.ffn = point_wise_feed_forward_network(**kargs)\n",
    "        \n",
    "        self.layernorm1 = tf.keras.layers.LayerNormalization(epsilon=1e-6)\n",
    "        self.layernorm2 = tf.keras.layers.LayerNormalization(epsilon=1e-6)\n",
    "        self.layernorm3 = tf.keras.layers.LayerNormalization(epsilon=1e-6)\n",
    "        \n",
    "        self.dropout1 = tf.keras.layers.Dropout(kargs['rate'])\n",
    "        self.dropout2 = tf.keras.layers.Dropout(kargs['rate'])\n",
    "        self.dropout3 = tf.keras.layers.Dropout(kargs['rate'])\n",
    "        \n",
    "        \n",
    "        \n",
    "    def call(self, x, enc_output, look_ahead_mask, padding_mask):\n",
    "        # 디코더 입력, 인코더 출력(각 단어의 context vector), 순방향 마스크, 패딩 마스크\n",
    "        # enc_output.shape == (batch_size, input_seq_len, d_model)\n",
    "        \n",
    "        # 1) 디코더의 입력사이의 관계를 계산하는 셀프어텐션\n",
    "        # (batch_size, target_seq_len, d_model)\n",
    "        attn1, attn_weights_block1 = self.mha1(x, # value\n",
    "                                               x, # key \n",
    "                                               x, # query\n",
    "                                               look_ahead_mask) # 순방향 마스크\n",
    "        attn1 = self.dropout1(attn1) # 드롭아웃\n",
    "        out1 = self.layernorm1(attn1 + x) # residual + 층 정규화\n",
    "                                        # (batch_size, target_seq_len, d_model)\n",
    "        \n",
    "        # 2) 인코더의 결과값과 디코더의 셀프어텐션 결과값의 관계를 계산하는 어텐션\n",
    "        attn2, attn_weights_block2 = self.mha2(enc_output, # vlaue\n",
    "                                              enc_output, # key\n",
    "                                              out1, # query\n",
    "                                              padding_mask) # 패딩마스크 \n",
    "        attn2 = self.dropout2(attn2)\n",
    "        out2 = self.layernorm2(attn2 + out1) # (batch_size, target_seq_len, d_model)\n",
    "        \n",
    "        # 3) point-wise FFN\n",
    "        ffn_output = self.ffn(out2)\n",
    "        ffn_output = self.dropout3(ffn_output)\n",
    "        out3 = self.layernorm3(ffn_output + out2) # (batch_size, target_seq_len, d_model)\n",
    "        \n",
    "        return out3, attn_weights_block1, attn_weights_block2\n",
    "    \n",
    "    "
   ]
  },
  {
   "cell_type": "markdown",
   "metadata": {},
   "source": [
    "## 인코더"
   ]
  },
  {
   "cell_type": "code",
   "execution_count": 196,
   "metadata": {
    "collapsed": true
   },
   "outputs": [],
   "source": [
    "# 전체적인 인코더 클래스\n",
    "# 인코더 레이어, 워드 임베딩, 포지션 인코더 등으로 구성됨\n",
    "\n",
    "class Encoder(tf.keras.layers.Layer):\n",
    "    def __init__(self, **kargs):\n",
    "        super(Encoder, self).__init__()\n",
    "        \n",
    "        # 멀티헤드어텐션의 context vector 차원, 512\n",
    "        # 각 헤드 차원은 512/8=64 임 (얘네 8개 concat 시켜서 최종 mha 출력 차원은 512)\n",
    "        self.d_model = kargs['d_model'] \n",
    "        \n",
    "        self.num_layers = kargs['num_layers'] # 인코더 레이어의 개수\n",
    "        \n",
    "        # 임베딩 레이어\n",
    "        self.embedding = tf.keras.layers.Embedding(kargs['input_vocab_size'], # vocab size\n",
    "                                                  self.d_model) # 출력차원\n",
    "        \n",
    "        # 포지션 인코딩\n",
    "        self.pos_encoding = positional_encoding(kargs['maximum_position_encoding'], # 25\n",
    "                                               self.d_model)\n",
    "        \n",
    "        # 인코더 레이어 x2\n",
    "        self.enc_layers = [EncoderLayer(**kargs)\n",
    "                          for _ in range(self.num_layers)]\n",
    "        \n",
    "        self.dropout = tf.keras.layers.Dropout(kargs['rate'])\n",
    "    \n",
    "    def call(self, x, mask):\n",
    "        seq_len = tf.shape(x)[1] # 시퀀스 길이 (max는 25지만 각 시퀀스 길이는 다르다!)\n",
    "        \n",
    "        \n",
    "        # 임베딩\n",
    "        x = self.embedding(x)  # (batch_size, input_seq_len, d_model)\n",
    "        \n",
    "        # 루트 d_model 만큼 스케일링\n",
    "        x *= tf.math.sqrt(tf.cast(self.d_model, tf.float32))\n",
    "        \n",
    "        # 포지션 인코딩\n",
    "        x += self.pos_encoding[:, :seq_len, :]\n",
    "        \n",
    "        # 드롭아웃\n",
    "        x = self.dropout(x)\n",
    "        \n",
    "        for i in range(self.num_layers):\n",
    "            x = self.enc_layers[i](x, mask)\n",
    "        \n",
    "        # (batch_size, input_seq_len, d_model)\n",
    "        return x\n",
    "         \n",
    "        \n",
    "        \n",
    "        \n",
    "\n"
   ]
  },
  {
   "cell_type": "markdown",
   "metadata": {},
   "source": [
    "## 디코더"
   ]
  },
  {
   "cell_type": "code",
   "execution_count": 203,
   "metadata": {
    "collapsed": true
   },
   "outputs": [],
   "source": [
    "class Decoder(tf.keras.layers.Layer):\n",
    "    def __init__(self, **kargs):\n",
    "        super(Decoder, self).__init__()\n",
    "        \n",
    "        self.d_model = kargs['d_model'] # 512\n",
    "        self.num_layers = kargs['num_layers'] # 512\n",
    "        \n",
    "        # 임베딩\n",
    "        self.embedding = tf.keras.layers.Embedding(kargs['target_vocab_size'],\n",
    "                                                  self.d_model) \n",
    "        # 포지션 인코딩\n",
    "        self.pos_encoding = positional_encoding(kargs['maximum_position_encoding'], #25  \n",
    "                                                self.d_model)\n",
    "        \n",
    "        # 디코더 레이어\n",
    "        self.dec_layers = [DecoderLayer(**kargs) \n",
    "                           for _ in range(self.num_layers)]\n",
    "        \n",
    "        # 드롭아웃\n",
    "        self.dropout = tf.keras.layers.Dropout(kargs['rate'])\n",
    "    \n",
    "    def call(self, x, enc_output, look_ahead_mask, padding_mask):\n",
    "        seq_len = tf.shape(x)[1] # 시퀀스 길이\n",
    "        attention_weights = {}\n",
    "        \n",
    "        # 임베딩\n",
    "        x = self.embedding(x)  # (batch_size, target_seq_len, d_model)\n",
    "        \n",
    "        # 스케일링\n",
    "        x *= tf.math.sqrt(tf.cast(self.d_model, tf.float32))\n",
    "        \n",
    "        # 포지션 인코딩 시퀀스 길이만큼 잘라주기\n",
    "        x += self.pos_encoding[:, :seq_len, :]\n",
    "        \n",
    "        # 드롭아웃 적용\n",
    "        x = self.dropout(x)\n",
    "        \n",
    "        for i in range(self.num_layers):\n",
    "            x, block1, block2 = self.dec_layers[i](x, \n",
    "                                                   enc_output, \n",
    "                                                   look_ahead_mask,\n",
    "                                                   padding_mask)\n",
    "        attention_weights['decoder_layer{}_block1'.format(i+1)] = block1\n",
    "        attention_weights['decoder_layer{}_block2'.format(i+1)] = block2\n",
    "    \n",
    "    \n",
    "        # x.shape == (batch_size, target_seq_len, d_model)\n",
    "        return x, attention_weights\n",
    "        \n",
    "        \n",
    "        "
   ]
  },
  {
   "cell_type": "markdown",
   "metadata": {},
   "source": [
    "## 트렌스포머 모델"
   ]
  },
  {
   "cell_type": "code",
   "execution_count": 204,
   "metadata": {
    "collapsed": true
   },
   "outputs": [],
   "source": [
    "# 인코더와 디코더를 이어서 시퀀스 투 시퀀스 모델 형태로 구현한다.\n",
    "class Transformer(tf.keras.Model):\n",
    "    def __init__(self, **kargs):\n",
    "        super(Transformer, self).__init__(name=kargs['model_name'])\n",
    "        self.end_token_idx = kargs['end_token_idx']\n",
    "        \n",
    "        self.encoder = Encoder(**kargs)\n",
    "        self.decoder = Decoder(**kargs)\n",
    "        \n",
    "        self.final_layer = tf.keras.layers.Dense(kargs['target_vocab_size'])\n",
    "    \n",
    "    # 학습을 위한 함수 (디코더 입력이 주어짐)\n",
    "    def call(self, x):\n",
    "        inp, tar = x # question, answer\n",
    "        \n",
    "        enc_padding_mask, look_ahead_mask, dec_padding_mask = create_masks(inp, tar)\n",
    "        enc_output = self.encoder(inp, enc_padding_mask) # (batch_size, inp_seq_len, d_model)\n",
    "        \n",
    "        # dec_output.shape == (batch_size, tar_seq_len, d_model)\n",
    "        dec_output, _ = self.decoder(tar,\n",
    "                                    enc_output,\n",
    "                                    look_ahead_mask,\n",
    "                                    dec_padding_mask)\n",
    "        \n",
    "        final_output = self.final_layer(dec_output)\n",
    "        # (batch_size, tar_seq_len, target_vocab_size)\n",
    "        \n",
    "        return final_output\n",
    "    \n",
    "    # 추론을 위한 함수 (디코더 입력이 주어지지 않음. 매번 생성해야함)\n",
    "    def inference(self, x):\n",
    "        inp = x\n",
    "        tar = tf.expand_dims([STD_INDEX], 0)\n",
    "        \n",
    "        enc_padding_mask, look_ahead_mask, dec_padding_mask = create_masks(inp, tar)        \n",
    "        \n",
    "        # 인코더에 넣음\n",
    "        enc_output = self.encoder(inp, enc_padding_mask)\n",
    "        \n",
    "        predict_tokens = list()\n",
    "        for t in range(0, MAX_SEQUENCE):\n",
    "            dec_output, _ = self.decoder(tar,\n",
    "                                        enc_output,\n",
    "                                        look_ahead_mask,\n",
    "                                        dec_padding_mask) # (batch_size, tar_seq_len, d_model)\n",
    "            final_output = self.final_layer(dec_output) # (batch_size, tar_seq_len, target_vocab_size)\n",
    "            \n",
    "            # 가장 큰 단어 가져옴\n",
    "            outputs = tf.argmax(final_output, -1).numpy() \n",
    "            pred_token = outputs[0][-1]\n",
    "            \n",
    "            if pred_token == self.end_token_idx:\n",
    "                break\n",
    "            \n",
    "            predict_tokens.append(pred_token)\n",
    "            \n",
    "            tar = tf.expand_dims([STD_INDEX] + predict_tokens, 0)\n",
    "            \n",
    "            _, look_ahead_mask, dec_padding_mask = create_masks(inp, tar)\n",
    "            \n",
    "        return predict_tokens\n",
    "        \n",
    "        \n",
    "    \n",
    "    \n",
    "    \n",
    "    "
   ]
  },
  {
   "cell_type": "code",
   "execution_count": null,
   "metadata": {
    "collapsed": true
   },
   "outputs": [],
   "source": []
  },
  {
   "cell_type": "markdown",
   "metadata": {},
   "source": [
    "## 모델 로스 정의"
   ]
  },
  {
   "cell_type": "code",
   "execution_count": 205,
   "metadata": {
    "collapsed": true
   },
   "outputs": [],
   "source": [
    "loss_object = tf.keras.losses.SparseCategoricalCrossentropy(\n",
    "    from_logits=True, reduction='none')\n",
    "\n",
    "train_accuracy = tf.keras.metrics.SparseCategoricalAccuracy(name='accuracy')\n",
    "\n",
    "def loss(real, pred):\n",
    "    mask = tf.math.logical_not(tf.math.equal(real, 0))\n",
    "    loss_ = loss_object(real, pred)\n",
    "\n",
    "    mask = tf.cast(mask, dtype=loss_.dtype)\n",
    "    loss_ *= mask\n",
    "\n",
    "    return tf.reduce_mean(loss_)\n",
    "\n",
    "def accuracy(real, pred):\n",
    "    mask = tf.math.logical_not(tf.math.equal(real, 0))\n",
    "    mask = tf.expand_dims(tf.cast(mask, dtype=pred.dtype), axis=-1)\n",
    "    pred *= mask    \n",
    "    acc = train_accuracy(real, pred)\n",
    "\n",
    "    return tf.reduce_mean(acc)"
   ]
  },
  {
   "cell_type": "code",
   "execution_count": 206,
   "metadata": {},
   "outputs": [
    {
     "name": "stdout",
     "output_type": "stream",
     "text": [
      "(25, 1)\n",
      "(1, 512)\n",
      "(25, 512)\n",
      "(1, 25, 512)\n",
      "(25, 1)\n",
      "(1, 512)\n",
      "(25, 512)\n",
      "(1, 25, 512)\n"
     ]
    }
   ],
   "source": [
    "model = Transformer(**kargs)\n",
    "model.compile(optimizer=tf.keras.optimizers.Adam(1e-4),\n",
    "              loss=loss,\n",
    "              metrics=[accuracy])"
   ]
  },
  {
   "cell_type": "markdown",
   "metadata": {},
   "source": [
    "# Callback 선언"
   ]
  },
  {
   "cell_type": "code",
   "execution_count": 207,
   "metadata": {},
   "outputs": [
    {
     "name": "stdout",
     "output_type": "stream",
     "text": [
      "./data_out/transformer -- Folder already exists \n",
      "\n"
     ]
    }
   ],
   "source": [
    "# overfitting을 막기 위한 ealrystop 추가\n",
    "earlystop_callback = EarlyStopping(monitor='val_accuracy', min_delta=0.0001, patience=10)\n",
    "# min_delta: the threshold that triggers the termination (acc should at least improve 0.0001)\n",
    "# patience: no improvment epochs (patience = 1, 1번 이상 상승이 없으면 종료)\n",
    "\n",
    "checkpoint_path = DATA_OUT_PATH + model_name + '/weights.h5'\n",
    "checkpoint_dir = os.path.dirname(checkpoint_path)\n",
    "\n",
    "# Create path if exists\n",
    "if os.path.exists(checkpoint_dir):\n",
    "    print(\"{} -- Folder already exists \\n\".format(checkpoint_dir))\n",
    "else:\n",
    "    os.makedirs(checkpoint_dir, exist_ok=True)\n",
    "    print(\"{} -- Folder create complete \\n\".format(checkpoint_dir))\n",
    "    \n",
    "\n",
    "cp_callback = ModelCheckpoint(\n",
    "    checkpoint_path, monitor='val_accuracy', verbose=1, save_best_only=True, save_weights_only=True)"
   ]
  },
  {
   "cell_type": "markdown",
   "metadata": {},
   "source": [
    "# 모델 학습"
   ]
  },
  {
   "cell_type": "code",
   "execution_count": 208,
   "metadata": {},
   "outputs": [
    {
     "name": "stdout",
     "output_type": "stream",
     "text": [
      "Epoch 1/3\n"
     ]
    },
    {
     "ename": "AttributeError",
     "evalue": "in user code:\n\n    /Users/ohyeji/anaconda3/envs/tf2/lib/python3.6/site-packages/tensorflow/python/keras/engine/training.py:805 train_function  *\n        return step_function(self, iterator)\n    <ipython-input-185-65b92d2ffab2>:20 call  *\n        dec_output, _ = self.decoder(tar,\n    <ipython-input-197-0e1bd2f9abc8>:39 call  *\n        x, block1, block2 = self.dec_layers[i](x,\n    <ipython-input-195-1e6198ca3227>:44 call  *\n        ffn_output = self.dropout(ffn_output)\n\n    AttributeError: 'DecoderLayer' object has no attribute 'dropout'\n",
     "output_type": "error",
     "traceback": [
      "\u001b[0;31m---------------------------------------------------------------------------\u001b[0m",
      "\u001b[0;31mAttributeError\u001b[0m                            Traceback (most recent call last)",
      "\u001b[0;32m<ipython-input-208-fc9f8e6eeaa1>\u001b[0m in \u001b[0;36m<module>\u001b[0;34m\u001b[0m\n\u001b[1;32m      4\u001b[0m                     \u001b[0mepochs\u001b[0m\u001b[0;34m=\u001b[0m\u001b[0mEPOCHS\u001b[0m\u001b[0;34m,\u001b[0m\u001b[0;34m\u001b[0m\u001b[0;34m\u001b[0m\u001b[0m\n\u001b[1;32m      5\u001b[0m                     \u001b[0mvalidation_split\u001b[0m\u001b[0;34m=\u001b[0m\u001b[0mVALID_SPLIT\u001b[0m\u001b[0;34m,\u001b[0m\u001b[0;34m\u001b[0m\u001b[0;34m\u001b[0m\u001b[0m\n\u001b[0;32m----> 6\u001b[0;31m                     callbacks=[earlystop_callback, cp_callback])\n\u001b[0m\u001b[1;32m      7\u001b[0m \u001b[0;34m\u001b[0m\u001b[0m\n",
      "\u001b[0;32m~/anaconda3/envs/tf2/lib/python3.6/site-packages/tensorflow/python/keras/engine/training.py\u001b[0m in \u001b[0;36mfit\u001b[0;34m(self, x, y, batch_size, epochs, verbose, callbacks, validation_split, validation_data, shuffle, class_weight, sample_weight, initial_epoch, steps_per_epoch, validation_steps, validation_batch_size, validation_freq, max_queue_size, workers, use_multiprocessing)\u001b[0m\n\u001b[1;32m   1098\u001b[0m                 _r=1):\n\u001b[1;32m   1099\u001b[0m               \u001b[0mcallbacks\u001b[0m\u001b[0;34m.\u001b[0m\u001b[0mon_train_batch_begin\u001b[0m\u001b[0;34m(\u001b[0m\u001b[0mstep\u001b[0m\u001b[0;34m)\u001b[0m\u001b[0;34m\u001b[0m\u001b[0;34m\u001b[0m\u001b[0m\n\u001b[0;32m-> 1100\u001b[0;31m               \u001b[0mtmp_logs\u001b[0m \u001b[0;34m=\u001b[0m \u001b[0mself\u001b[0m\u001b[0;34m.\u001b[0m\u001b[0mtrain_function\u001b[0m\u001b[0;34m(\u001b[0m\u001b[0miterator\u001b[0m\u001b[0;34m)\u001b[0m\u001b[0;34m\u001b[0m\u001b[0;34m\u001b[0m\u001b[0m\n\u001b[0m\u001b[1;32m   1101\u001b[0m               \u001b[0;32mif\u001b[0m \u001b[0mdata_handler\u001b[0m\u001b[0;34m.\u001b[0m\u001b[0mshould_sync\u001b[0m\u001b[0;34m:\u001b[0m\u001b[0;34m\u001b[0m\u001b[0;34m\u001b[0m\u001b[0m\n\u001b[1;32m   1102\u001b[0m                 \u001b[0mcontext\u001b[0m\u001b[0;34m.\u001b[0m\u001b[0masync_wait\u001b[0m\u001b[0;34m(\u001b[0m\u001b[0;34m)\u001b[0m\u001b[0;34m\u001b[0m\u001b[0;34m\u001b[0m\u001b[0m\n",
      "\u001b[0;32m~/anaconda3/envs/tf2/lib/python3.6/site-packages/tensorflow/python/eager/def_function.py\u001b[0m in \u001b[0;36m__call__\u001b[0;34m(self, *args, **kwds)\u001b[0m\n\u001b[1;32m    826\u001b[0m     \u001b[0mtracing_count\u001b[0m \u001b[0;34m=\u001b[0m \u001b[0mself\u001b[0m\u001b[0;34m.\u001b[0m\u001b[0mexperimental_get_tracing_count\u001b[0m\u001b[0;34m(\u001b[0m\u001b[0;34m)\u001b[0m\u001b[0;34m\u001b[0m\u001b[0;34m\u001b[0m\u001b[0m\n\u001b[1;32m    827\u001b[0m     \u001b[0;32mwith\u001b[0m \u001b[0mtrace\u001b[0m\u001b[0;34m.\u001b[0m\u001b[0mTrace\u001b[0m\u001b[0;34m(\u001b[0m\u001b[0mself\u001b[0m\u001b[0;34m.\u001b[0m\u001b[0m_name\u001b[0m\u001b[0;34m)\u001b[0m \u001b[0;32mas\u001b[0m \u001b[0mtm\u001b[0m\u001b[0;34m:\u001b[0m\u001b[0;34m\u001b[0m\u001b[0;34m\u001b[0m\u001b[0m\n\u001b[0;32m--> 828\u001b[0;31m       \u001b[0mresult\u001b[0m \u001b[0;34m=\u001b[0m \u001b[0mself\u001b[0m\u001b[0;34m.\u001b[0m\u001b[0m_call\u001b[0m\u001b[0;34m(\u001b[0m\u001b[0;34m*\u001b[0m\u001b[0margs\u001b[0m\u001b[0;34m,\u001b[0m \u001b[0;34m**\u001b[0m\u001b[0mkwds\u001b[0m\u001b[0;34m)\u001b[0m\u001b[0;34m\u001b[0m\u001b[0;34m\u001b[0m\u001b[0m\n\u001b[0m\u001b[1;32m    829\u001b[0m       \u001b[0mcompiler\u001b[0m \u001b[0;34m=\u001b[0m \u001b[0;34m\"xla\"\u001b[0m \u001b[0;32mif\u001b[0m \u001b[0mself\u001b[0m\u001b[0;34m.\u001b[0m\u001b[0m_experimental_compile\u001b[0m \u001b[0;32melse\u001b[0m \u001b[0;34m\"nonXla\"\u001b[0m\u001b[0;34m\u001b[0m\u001b[0;34m\u001b[0m\u001b[0m\n\u001b[1;32m    830\u001b[0m       \u001b[0mnew_tracing_count\u001b[0m \u001b[0;34m=\u001b[0m \u001b[0mself\u001b[0m\u001b[0;34m.\u001b[0m\u001b[0mexperimental_get_tracing_count\u001b[0m\u001b[0;34m(\u001b[0m\u001b[0;34m)\u001b[0m\u001b[0;34m\u001b[0m\u001b[0;34m\u001b[0m\u001b[0m\n",
      "\u001b[0;32m~/anaconda3/envs/tf2/lib/python3.6/site-packages/tensorflow/python/eager/def_function.py\u001b[0m in \u001b[0;36m_call\u001b[0;34m(self, *args, **kwds)\u001b[0m\n\u001b[1;32m    869\u001b[0m       \u001b[0;31m# This is the first call of __call__, so we have to initialize.\u001b[0m\u001b[0;34m\u001b[0m\u001b[0;34m\u001b[0m\u001b[0;34m\u001b[0m\u001b[0m\n\u001b[1;32m    870\u001b[0m       \u001b[0minitializers\u001b[0m \u001b[0;34m=\u001b[0m \u001b[0;34m[\u001b[0m\u001b[0;34m]\u001b[0m\u001b[0;34m\u001b[0m\u001b[0;34m\u001b[0m\u001b[0m\n\u001b[0;32m--> 871\u001b[0;31m       \u001b[0mself\u001b[0m\u001b[0;34m.\u001b[0m\u001b[0m_initialize\u001b[0m\u001b[0;34m(\u001b[0m\u001b[0margs\u001b[0m\u001b[0;34m,\u001b[0m \u001b[0mkwds\u001b[0m\u001b[0;34m,\u001b[0m \u001b[0madd_initializers_to\u001b[0m\u001b[0;34m=\u001b[0m\u001b[0minitializers\u001b[0m\u001b[0;34m)\u001b[0m\u001b[0;34m\u001b[0m\u001b[0;34m\u001b[0m\u001b[0m\n\u001b[0m\u001b[1;32m    872\u001b[0m     \u001b[0;32mfinally\u001b[0m\u001b[0;34m:\u001b[0m\u001b[0;34m\u001b[0m\u001b[0;34m\u001b[0m\u001b[0m\n\u001b[1;32m    873\u001b[0m       \u001b[0;31m# At this point we know that the initialization is complete (or less\u001b[0m\u001b[0;34m\u001b[0m\u001b[0;34m\u001b[0m\u001b[0;34m\u001b[0m\u001b[0m\n",
      "\u001b[0;32m~/anaconda3/envs/tf2/lib/python3.6/site-packages/tensorflow/python/eager/def_function.py\u001b[0m in \u001b[0;36m_initialize\u001b[0;34m(self, args, kwds, add_initializers_to)\u001b[0m\n\u001b[1;32m    724\u001b[0m     self._concrete_stateful_fn = (\n\u001b[1;32m    725\u001b[0m         self._stateful_fn._get_concrete_function_internal_garbage_collected(  # pylint: disable=protected-access\n\u001b[0;32m--> 726\u001b[0;31m             *args, **kwds))\n\u001b[0m\u001b[1;32m    727\u001b[0m \u001b[0;34m\u001b[0m\u001b[0m\n\u001b[1;32m    728\u001b[0m     \u001b[0;32mdef\u001b[0m \u001b[0minvalid_creator_scope\u001b[0m\u001b[0;34m(\u001b[0m\u001b[0;34m*\u001b[0m\u001b[0munused_args\u001b[0m\u001b[0;34m,\u001b[0m \u001b[0;34m**\u001b[0m\u001b[0munused_kwds\u001b[0m\u001b[0;34m)\u001b[0m\u001b[0;34m:\u001b[0m\u001b[0;34m\u001b[0m\u001b[0;34m\u001b[0m\u001b[0m\n",
      "\u001b[0;32m~/anaconda3/envs/tf2/lib/python3.6/site-packages/tensorflow/python/eager/function.py\u001b[0m in \u001b[0;36m_get_concrete_function_internal_garbage_collected\u001b[0;34m(self, *args, **kwargs)\u001b[0m\n\u001b[1;32m   2967\u001b[0m       \u001b[0margs\u001b[0m\u001b[0;34m,\u001b[0m \u001b[0mkwargs\u001b[0m \u001b[0;34m=\u001b[0m \u001b[0;32mNone\u001b[0m\u001b[0;34m,\u001b[0m \u001b[0;32mNone\u001b[0m\u001b[0;34m\u001b[0m\u001b[0;34m\u001b[0m\u001b[0m\n\u001b[1;32m   2968\u001b[0m     \u001b[0;32mwith\u001b[0m \u001b[0mself\u001b[0m\u001b[0;34m.\u001b[0m\u001b[0m_lock\u001b[0m\u001b[0;34m:\u001b[0m\u001b[0;34m\u001b[0m\u001b[0;34m\u001b[0m\u001b[0m\n\u001b[0;32m-> 2969\u001b[0;31m       \u001b[0mgraph_function\u001b[0m\u001b[0;34m,\u001b[0m \u001b[0m_\u001b[0m \u001b[0;34m=\u001b[0m \u001b[0mself\u001b[0m\u001b[0;34m.\u001b[0m\u001b[0m_maybe_define_function\u001b[0m\u001b[0;34m(\u001b[0m\u001b[0margs\u001b[0m\u001b[0;34m,\u001b[0m \u001b[0mkwargs\u001b[0m\u001b[0;34m)\u001b[0m\u001b[0;34m\u001b[0m\u001b[0;34m\u001b[0m\u001b[0m\n\u001b[0m\u001b[1;32m   2970\u001b[0m     \u001b[0;32mreturn\u001b[0m \u001b[0mgraph_function\u001b[0m\u001b[0;34m\u001b[0m\u001b[0;34m\u001b[0m\u001b[0m\n\u001b[1;32m   2971\u001b[0m \u001b[0;34m\u001b[0m\u001b[0m\n",
      "\u001b[0;32m~/anaconda3/envs/tf2/lib/python3.6/site-packages/tensorflow/python/eager/function.py\u001b[0m in \u001b[0;36m_maybe_define_function\u001b[0;34m(self, args, kwargs)\u001b[0m\n\u001b[1;32m   3359\u001b[0m \u001b[0;34m\u001b[0m\u001b[0m\n\u001b[1;32m   3360\u001b[0m           \u001b[0mself\u001b[0m\u001b[0;34m.\u001b[0m\u001b[0m_function_cache\u001b[0m\u001b[0;34m.\u001b[0m\u001b[0mmissed\u001b[0m\u001b[0;34m.\u001b[0m\u001b[0madd\u001b[0m\u001b[0;34m(\u001b[0m\u001b[0mcall_context_key\u001b[0m\u001b[0;34m)\u001b[0m\u001b[0;34m\u001b[0m\u001b[0;34m\u001b[0m\u001b[0m\n\u001b[0;32m-> 3361\u001b[0;31m           \u001b[0mgraph_function\u001b[0m \u001b[0;34m=\u001b[0m \u001b[0mself\u001b[0m\u001b[0;34m.\u001b[0m\u001b[0m_create_graph_function\u001b[0m\u001b[0;34m(\u001b[0m\u001b[0margs\u001b[0m\u001b[0;34m,\u001b[0m \u001b[0mkwargs\u001b[0m\u001b[0;34m)\u001b[0m\u001b[0;34m\u001b[0m\u001b[0;34m\u001b[0m\u001b[0m\n\u001b[0m\u001b[1;32m   3362\u001b[0m           \u001b[0mself\u001b[0m\u001b[0;34m.\u001b[0m\u001b[0m_function_cache\u001b[0m\u001b[0;34m.\u001b[0m\u001b[0mprimary\u001b[0m\u001b[0;34m[\u001b[0m\u001b[0mcache_key\u001b[0m\u001b[0;34m]\u001b[0m \u001b[0;34m=\u001b[0m \u001b[0mgraph_function\u001b[0m\u001b[0;34m\u001b[0m\u001b[0;34m\u001b[0m\u001b[0m\n\u001b[1;32m   3363\u001b[0m \u001b[0;34m\u001b[0m\u001b[0m\n",
      "\u001b[0;32m~/anaconda3/envs/tf2/lib/python3.6/site-packages/tensorflow/python/eager/function.py\u001b[0m in \u001b[0;36m_create_graph_function\u001b[0;34m(self, args, kwargs, override_flat_arg_shapes)\u001b[0m\n\u001b[1;32m   3204\u001b[0m             \u001b[0marg_names\u001b[0m\u001b[0;34m=\u001b[0m\u001b[0marg_names\u001b[0m\u001b[0;34m,\u001b[0m\u001b[0;34m\u001b[0m\u001b[0;34m\u001b[0m\u001b[0m\n\u001b[1;32m   3205\u001b[0m             \u001b[0moverride_flat_arg_shapes\u001b[0m\u001b[0;34m=\u001b[0m\u001b[0moverride_flat_arg_shapes\u001b[0m\u001b[0;34m,\u001b[0m\u001b[0;34m\u001b[0m\u001b[0;34m\u001b[0m\u001b[0m\n\u001b[0;32m-> 3206\u001b[0;31m             capture_by_value=self._capture_by_value),\n\u001b[0m\u001b[1;32m   3207\u001b[0m         \u001b[0mself\u001b[0m\u001b[0;34m.\u001b[0m\u001b[0m_function_attributes\u001b[0m\u001b[0;34m,\u001b[0m\u001b[0;34m\u001b[0m\u001b[0;34m\u001b[0m\u001b[0m\n\u001b[1;32m   3208\u001b[0m         \u001b[0mfunction_spec\u001b[0m\u001b[0;34m=\u001b[0m\u001b[0mself\u001b[0m\u001b[0;34m.\u001b[0m\u001b[0mfunction_spec\u001b[0m\u001b[0;34m,\u001b[0m\u001b[0;34m\u001b[0m\u001b[0;34m\u001b[0m\u001b[0m\n",
      "\u001b[0;32m~/anaconda3/envs/tf2/lib/python3.6/site-packages/tensorflow/python/framework/func_graph.py\u001b[0m in \u001b[0;36mfunc_graph_from_py_func\u001b[0;34m(name, python_func, args, kwargs, signature, func_graph, autograph, autograph_options, add_control_dependencies, arg_names, op_return_value, collections, capture_by_value, override_flat_arg_shapes)\u001b[0m\n\u001b[1;32m    988\u001b[0m         \u001b[0m_\u001b[0m\u001b[0;34m,\u001b[0m \u001b[0moriginal_func\u001b[0m \u001b[0;34m=\u001b[0m \u001b[0mtf_decorator\u001b[0m\u001b[0;34m.\u001b[0m\u001b[0munwrap\u001b[0m\u001b[0;34m(\u001b[0m\u001b[0mpython_func\u001b[0m\u001b[0;34m)\u001b[0m\u001b[0;34m\u001b[0m\u001b[0;34m\u001b[0m\u001b[0m\n\u001b[1;32m    989\u001b[0m \u001b[0;34m\u001b[0m\u001b[0m\n\u001b[0;32m--> 990\u001b[0;31m       \u001b[0mfunc_outputs\u001b[0m \u001b[0;34m=\u001b[0m \u001b[0mpython_func\u001b[0m\u001b[0;34m(\u001b[0m\u001b[0;34m*\u001b[0m\u001b[0mfunc_args\u001b[0m\u001b[0;34m,\u001b[0m \u001b[0;34m**\u001b[0m\u001b[0mfunc_kwargs\u001b[0m\u001b[0;34m)\u001b[0m\u001b[0;34m\u001b[0m\u001b[0;34m\u001b[0m\u001b[0m\n\u001b[0m\u001b[1;32m    991\u001b[0m \u001b[0;34m\u001b[0m\u001b[0m\n\u001b[1;32m    992\u001b[0m       \u001b[0;31m# invariant: `func_outputs` contains only Tensors, CompositeTensors,\u001b[0m\u001b[0;34m\u001b[0m\u001b[0;34m\u001b[0m\u001b[0;34m\u001b[0m\u001b[0m\n",
      "\u001b[0;32m~/anaconda3/envs/tf2/lib/python3.6/site-packages/tensorflow/python/eager/def_function.py\u001b[0m in \u001b[0;36mwrapped_fn\u001b[0;34m(*args, **kwds)\u001b[0m\n\u001b[1;32m    632\u001b[0m             \u001b[0mxla_context\u001b[0m\u001b[0;34m.\u001b[0m\u001b[0mExit\u001b[0m\u001b[0;34m(\u001b[0m\u001b[0;34m)\u001b[0m\u001b[0;34m\u001b[0m\u001b[0;34m\u001b[0m\u001b[0m\n\u001b[1;32m    633\u001b[0m         \u001b[0;32melse\u001b[0m\u001b[0;34m:\u001b[0m\u001b[0;34m\u001b[0m\u001b[0;34m\u001b[0m\u001b[0m\n\u001b[0;32m--> 634\u001b[0;31m           \u001b[0mout\u001b[0m \u001b[0;34m=\u001b[0m \u001b[0mweak_wrapped_fn\u001b[0m\u001b[0;34m(\u001b[0m\u001b[0;34m)\u001b[0m\u001b[0;34m.\u001b[0m\u001b[0m__wrapped__\u001b[0m\u001b[0;34m(\u001b[0m\u001b[0;34m*\u001b[0m\u001b[0margs\u001b[0m\u001b[0;34m,\u001b[0m \u001b[0;34m**\u001b[0m\u001b[0mkwds\u001b[0m\u001b[0;34m)\u001b[0m\u001b[0;34m\u001b[0m\u001b[0;34m\u001b[0m\u001b[0m\n\u001b[0m\u001b[1;32m    635\u001b[0m         \u001b[0;32mreturn\u001b[0m \u001b[0mout\u001b[0m\u001b[0;34m\u001b[0m\u001b[0;34m\u001b[0m\u001b[0m\n\u001b[1;32m    636\u001b[0m \u001b[0;34m\u001b[0m\u001b[0m\n",
      "\u001b[0;32m~/anaconda3/envs/tf2/lib/python3.6/site-packages/tensorflow/python/framework/func_graph.py\u001b[0m in \u001b[0;36mwrapper\u001b[0;34m(*args, **kwargs)\u001b[0m\n\u001b[1;32m    975\u001b[0m           \u001b[0;32mexcept\u001b[0m \u001b[0mException\u001b[0m \u001b[0;32mas\u001b[0m \u001b[0me\u001b[0m\u001b[0;34m:\u001b[0m  \u001b[0;31m# pylint:disable=broad-except\u001b[0m\u001b[0;34m\u001b[0m\u001b[0;34m\u001b[0m\u001b[0m\n\u001b[1;32m    976\u001b[0m             \u001b[0;32mif\u001b[0m \u001b[0mhasattr\u001b[0m\u001b[0;34m(\u001b[0m\u001b[0me\u001b[0m\u001b[0;34m,\u001b[0m \u001b[0;34m\"ag_error_metadata\"\u001b[0m\u001b[0;34m)\u001b[0m\u001b[0;34m:\u001b[0m\u001b[0;34m\u001b[0m\u001b[0;34m\u001b[0m\u001b[0m\n\u001b[0;32m--> 977\u001b[0;31m               \u001b[0;32mraise\u001b[0m \u001b[0me\u001b[0m\u001b[0;34m.\u001b[0m\u001b[0mag_error_metadata\u001b[0m\u001b[0;34m.\u001b[0m\u001b[0mto_exception\u001b[0m\u001b[0;34m(\u001b[0m\u001b[0me\u001b[0m\u001b[0;34m)\u001b[0m\u001b[0;34m\u001b[0m\u001b[0;34m\u001b[0m\u001b[0m\n\u001b[0m\u001b[1;32m    978\u001b[0m             \u001b[0;32melse\u001b[0m\u001b[0;34m:\u001b[0m\u001b[0;34m\u001b[0m\u001b[0;34m\u001b[0m\u001b[0m\n\u001b[1;32m    979\u001b[0m               \u001b[0;32mraise\u001b[0m\u001b[0;34m\u001b[0m\u001b[0;34m\u001b[0m\u001b[0m\n",
      "\u001b[0;31mAttributeError\u001b[0m: in user code:\n\n    /Users/ohyeji/anaconda3/envs/tf2/lib/python3.6/site-packages/tensorflow/python/keras/engine/training.py:805 train_function  *\n        return step_function(self, iterator)\n    <ipython-input-185-65b92d2ffab2>:20 call  *\n        dec_output, _ = self.decoder(tar,\n    <ipython-input-197-0e1bd2f9abc8>:39 call  *\n        x, block1, block2 = self.dec_layers[i](x,\n    <ipython-input-195-1e6198ca3227>:44 call  *\n        ffn_output = self.dropout(ffn_output)\n\n    AttributeError: 'DecoderLayer' object has no attribute 'dropout'\n"
     ]
    }
   ],
   "source": [
    "history = model.fit([index_inputs, index_outputs],\n",
    "                    index_targets,\n",
    "                    batch_size=BATCH_SIZE,\n",
    "                    epochs=EPOCHS,\n",
    "                    validation_split=VALID_SPLIT,\n",
    "                    callbacks=[earlystop_callback, cp_callback])\n",
    "                    "
   ]
  },
  {
   "cell_type": "code",
   "execution_count": null,
   "metadata": {
    "collapsed": true
   },
   "outputs": [],
   "source": []
  }
 ],
 "metadata": {
  "kernelspec": {
   "display_name": "tf2",
   "language": "python",
   "name": "tf2"
  },
  "language_info": {
   "codemirror_mode": {
    "name": "ipython",
    "version": 3
   },
   "file_extension": ".py",
   "mimetype": "text/x-python",
   "name": "python",
   "nbconvert_exporter": "python",
   "pygments_lexer": "ipython3",
   "version": "3.6.12"
  }
 },
 "nbformat": 4,
 "nbformat_minor": 2
}
