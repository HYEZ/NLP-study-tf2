{
 "cells": [
  {
   "cell_type": "markdown",
   "metadata": {},
   "source": [
    "## 2.4.1 넘파이\n",
    "\n",
    "### 넘파이 배열"
   ]
  },
  {
   "cell_type": "code",
   "execution_count": 1,
   "metadata": {
    "collapsed": true
   },
   "outputs": [],
   "source": [
    "import numpy as np"
   ]
  },
  {
   "cell_type": "code",
   "execution_count": 2,
   "metadata": {},
   "outputs": [
    {
     "name": "stdout",
     "output_type": "stream",
     "text": [
      "[1 2 3]\n"
     ]
    }
   ],
   "source": [
    "a = np.array([1, 2, 3])\n",
    "print(a)"
   ]
  },
  {
   "cell_type": "code",
   "execution_count": 8,
   "metadata": {},
   "outputs": [
    {
     "name": "stdout",
     "output_type": "stream",
     "text": [
      "2\n",
      "(3, 3)\n",
      "9\n",
      "int64\n"
     ]
    }
   ],
   "source": [
    "a = np.array([[1,2,3], [1,5,9], [3,5,7]])\n",
    "\n",
    "print(a.ndim) # 배열의 차원 수 : 2차원 배열\n",
    "\n",
    "print(a.shape) # 배열의 형태 : 3x3 \n",
    "\n",
    "print(a.size) # 원소의 총 개수\n",
    "\n",
    "print(a.dtype) # 원소의 자료형"
   ]
  },
  {
   "cell_type": "code",
   "execution_count": 15,
   "metadata": {},
   "outputs": [
    {
     "name": "stdout",
     "output_type": "stream",
     "text": [
      "[[0. 0. 0.]\n",
      " [0. 0. 0.]]\n",
      "[[1.]\n",
      " [1.]]\n",
      "[[2.e-323 2.e-323]\n",
      " [2.e-323 2.e-323]]\n",
      "[10 15 20 25]\n",
      "[[4 4]\n",
      " [4 4]]\n",
      "[[1. 0. 0.]\n",
      " [0. 1. 0.]\n",
      " [0. 0. 1.]]\n",
      "[[0.11413358 0.33293966]\n",
      " [0.80929908 0.89920558]]\n"
     ]
    }
   ],
   "source": [
    "a = np.zeros((2, 3)) #원소가 모두 0인 배열 생성\n",
    "print(a)      \n",
    "\n",
    "b = np.ones((2,1)) #원소가 모두 1인 배열 생성\n",
    "print(b) \n",
    "\n",
    "c = np.empty((2,2)) #원소값을 초기화하지 않은 배열 생성 - 매우 크거나 작은 값이 들어감\n",
    "print(c)\n",
    "\n",
    "d = np.arange(10, 30, 5) # 10부터 30전 까지 5단위로 배열 생성 (파이썬의 range랑 비슷)\n",
    "print(d)\n",
    "\n",
    "e = np.full((2, 2), 4) #원소가 모두 4인 배열 생성\n",
    "print(e)      \n",
    "\n",
    "f = np.eye(3) # 3x3 크기의 단위행렬!!! 생성\n",
    "print(f)     \n",
    "\n",
    "g = np.random.random((2, 2)) # 임의값을 가지는 배열 생성\n",
    "print(g) "
   ]
  },
  {
   "cell_type": "markdown",
   "metadata": {},
   "source": [
    "### 넘파이 기본연산"
   ]
  },
  {
   "cell_type": "code",
   "execution_count": 18,
   "metadata": {},
   "outputs": [
    {
     "name": "stdout",
     "output_type": "stream",
     "text": [
      "[11 22 33]\n",
      "[11 22 33]\n",
      "[ 9 18 27]\n",
      "[ 9 18 27]\n",
      "[1 4 9]\n",
      "[ True False False]\n",
      "[[10 40]\n",
      " [90 40]]\n",
      "[[ 70  40]\n",
      " [150 100]]\n",
      "[[ 70  40]\n",
      " [150 100]]\n"
     ]
    }
   ],
   "source": [
    "a = np.array([1, 2, 3])\n",
    "b = np.array([10, 20, 30])\n",
    "\n",
    "print(a+b)\n",
    "print(np.add(a, b))\n",
    "\n",
    "print(b-a)\n",
    "print(np.subtract(b, a))\n",
    "\n",
    "print(a**2)\n",
    "\n",
    "print(b < 15)\n",
    "\n",
    "\n",
    "C = np.array([[1, 2],\n",
    "              [3, 4]])\n",
    "D = np.array([[10, 20],\n",
    "              [30, 10]])\n",
    "\n",
    "print(C*D) # 원소별 곱셈\n",
    "\n",
    "print(np.dot(C, D)) # 내적\n",
    "print(C.dot(D)) # 내적\n"
   ]
  },
  {
   "cell_type": "code",
   "execution_count": 19,
   "metadata": {},
   "outputs": [
    {
     "name": "stdout",
     "output_type": "stream",
     "text": [
      "[ 7 11 15 19]\n",
      "[10 26 16]\n",
      "[4 8 7]\n"
     ]
    }
   ],
   "source": [
    "a = np.array([[ 1, 2, 3, 4],\n",
    "              [ 5, 6, 7, 8],\n",
    "              [ 1, 3, 5, 7]])\n",
    "\n",
    "print(a.sum(axis=0)) # 0축, 즉 열을 기준으로한 덧셈\n",
    "\n",
    "print(a.sum(axis=1)) # 1축, 즉 행을 기준으로한 덧셈\n",
    "\n",
    "print(a.max(axis=1)) # 각 행에서의 최대값"
   ]
  },
  {
   "cell_type": "markdown",
   "metadata": {},
   "source": [
    "### 넘파이 배열 인덱싱, 슬라이싱"
   ]
  },
  {
   "cell_type": "code",
   "execution_count": 20,
   "metadata": {},
   "outputs": [
    {
     "name": "stdout",
     "output_type": "stream",
     "text": [
      "4\n",
      "7\n",
      "[3 4 5]\n",
      "[3 4 5 6 7]\n",
      "[1 2 3 4]\n"
     ]
    }
   ],
   "source": [
    "a = np.array([1, 2, 3, 4, 5, 6, 7])\n",
    "\n",
    "print(a[3])\n",
    "\n",
    "print(a[-1])\n",
    "\n",
    "print(a[2:5])\n",
    "\n",
    "print(a[2:])\n",
    "print(a[:4])"
   ]
  },
  {
   "cell_type": "code",
   "execution_count": 21,
   "metadata": {},
   "outputs": [
    {
     "name": "stdout",
     "output_type": "stream",
     "text": [
      "6\n",
      "[2 5 8]\n",
      "[7 8 9]\n"
     ]
    }
   ],
   "source": [
    "a = np.array([[ 1, 2, 3],\n",
    "              [ 4, 5, 6],\n",
    "              [ 7, 8, 9]])\n",
    "\n",
    "print(a[1, 2])\n",
    "print(a[:, 1])\n",
    "\n",
    "print(a[-1])"
   ]
  },
  {
   "cell_type": "markdown",
   "metadata": {},
   "source": [
    "### 넘파이 배열 형태 변환"
   ]
  },
  {
   "cell_type": "code",
   "execution_count": 26,
   "metadata": {},
   "outputs": [
    {
     "name": "stdout",
     "output_type": "stream",
     "text": [
      "[ 1  2  3  4  5  6  7  8  9 10 11 12]\n",
      "[[ 1  2  3  4  5  6]\n",
      " [ 7  8  9 10 11 12]]\n",
      "[[ 1  5  9]\n",
      " [ 2  6 10]\n",
      " [ 3  7 11]\n",
      " [ 4  8 12]]\n"
     ]
    }
   ],
   "source": [
    "a = np.array([[1, 2, 3, 4],\n",
    "              [5, 6, 7, 8],\n",
    "              [9,10,11,12]])\n",
    "\n",
    "print(a.ravel()) # == flatten\n",
    "\n",
    "print(a.reshape(2, 6))\n",
    "\n",
    "print(a.T)"
   ]
  },
  {
   "cell_type": "code",
   "execution_count": 27,
   "metadata": {},
   "outputs": [
    {
     "name": "stdout",
     "output_type": "stream",
     "text": [
      "[[ 1  2  3  4]\n",
      " [ 5  6  7  8]\n",
      " [ 9 10 11 12]]\n"
     ]
    }
   ],
   "source": [
    "print(a.reshape(3, -1)) # 3행만 지정해주고 열에 -1을 넣으면 자동으로 배열을 reshape한다."
   ]
  },
  {
   "cell_type": "markdown",
   "metadata": {},
   "source": [
    "### 넘파이 브로드캐스팅"
   ]
  },
  {
   "cell_type": "code",
   "execution_count": 35,
   "metadata": {},
   "outputs": [
    {
     "name": "stdout",
     "output_type": "stream",
     "text": [
      "[[ 2  2  4]\n",
      " [ 5  5  7]\n",
      " [ 8  8 10]]\n"
     ]
    }
   ],
   "source": [
    "a = np.array([[1,2,3], [4,5,6], [7,8,9]])\n",
    "b = np.array([1,0,1])\n",
    "y = np.empty_like(a) # 배열 a와 크기가 같은 원소가 비어있는 배열 생성\n",
    "\n",
    "# 배열 b를 a의 각 행에 더해주기 위해 반복문을 사용한다.\n",
    "for i in range(3):\n",
    "    y[i, :] = a[i, :] + b\n",
    "print(y)"
   ]
  },
  {
   "cell_type": "code",
   "execution_count": 36,
   "metadata": {},
   "outputs": [
    {
     "name": "stdout",
     "output_type": "stream",
     "text": [
      "[[ 2  2  4]\n",
      " [ 5  5  7]\n",
      " [ 8  8 10]]\n"
     ]
    }
   ],
   "source": [
    "a = np.array([[1,2,3], [4,5,6], [7,8,9]])\n",
    "b = np.array([1,0,1])\n",
    "c = a + b\n",
    "print(c)"
   ]
  },
  {
   "cell_type": "code",
   "execution_count": null,
   "metadata": {
    "collapsed": true
   },
   "outputs": [],
   "source": []
  }
 ],
 "metadata": {
  "kernelspec": {
   "display_name": "tf2",
   "language": "python",
   "name": "tf2"
  },
  "language_info": {
   "codemirror_mode": {
    "name": "ipython",
    "version": 3
   },
   "file_extension": ".py",
   "mimetype": "text/x-python",
   "name": "python",
   "nbconvert_exporter": "python",
   "pygments_lexer": "ipython3",
   "version": "3.6.12"
  }
 },
 "nbformat": 4,
 "nbformat_minor": 2
}
