{
 "cells": [
  {
   "cell_type": "markdown",
   "metadata": {},
   "source": [
    "## 2.4.4 Re and Beautiful Soup "
   ]
  },
  {
   "cell_type": "markdown",
   "metadata": {},
   "source": [
    "### Re 함수\n",
    "- 파이썬 내장 라이브러리, 정규표현식 라이브러리\n",
    "- 자연어처리 분야에서 많이 사용함\n",
    "- 특정 문자열 제거, 검색, 치환 등에 사용\n",
    "\n",
    "#### 정규표현식 문자\n",
    "- . : 줄바꿈을 제외한 모든 문자\n",
    "- ^ : 문자열의 시작\n",
    "- $ : 문자열의 끝\n",
    "- `*` : 앞에 있는 문자가 0회 이상 반복된 문자열\n",
    "- `+` : 앞에 있는 문자가 1회 이상 반복된 문자열\n",
    "- {m} : 앞 문자를 m회 반복하는 문자열\n",
    "- {m, n} : 앞 문자를 m~n회 반복하는 문자열\n",
    "- ? : 앞 문자가 나오거나 나오지 않는 문자열, {0, 1}과 동일\n",
    "- \\d : 숫자\n",
    "- \\D : 숫자가 아닌 문자\n",
    "- \\w : 문자 혹은 숫자\n",
    "- \\W : 문자 혹은 숫자가 아닌 것\n",
    "- (...) : 괄호 안의 모든 정규 표현식을 만족하는 문자\n",
    "- [abc] : a,b,c 중 한개의 문자와 일치"
   ]
  },
  {
   "cell_type": "code",
   "execution_count": 2,
   "metadata": {
    "collapsed": true
   },
   "outputs": [],
   "source": [
    "import re"
   ]
  },
  {
   "cell_type": "code",
   "execution_count": 3,
   "metadata": {
    "collapsed": true
   },
   "outputs": [],
   "source": [
    "pattern = ' \\W+'\n",
    "re_pattern = re.compile(pattern) # 특정 기호를 정규표현식 객체로 만들어줌"
   ]
  },
  {
   "cell_type": "code",
   "execution_count": 5,
   "metadata": {},
   "outputs": [
    {
     "data": {
      "text/plain": [
       "<_sre.SRE_Match object; span=(0, 3), match='wow'>"
      ]
     },
     "execution_count": 5,
     "metadata": {},
     "output_type": "execute_result"
    }
   ],
   "source": [
    "re.search('(\\w+)', 'wow, it is awesome') # 해당 문자열에서 정규표현식에 해당하는 첫 부분을 찾는다."
   ]
  },
  {
   "cell_type": "code",
   "execution_count": 10,
   "metadata": {},
   "outputs": [
    {
     "data": {
      "text/plain": [
       "['wow', ', ', 'it', ' ', 'is', ' ', 'world', ' ', 'of', ' ', 'word']"
      ]
     },
     "execution_count": 10,
     "metadata": {},
     "output_type": "execute_result"
    }
   ],
   "source": [
    "re.split('(\\W+)', \"wow, it is world of word\") # 문자 혹은 숫자(=띄어쓰기)가 아닌 것을 기준으로 나눔\n",
    "\n"
   ]
  },
  {
   "cell_type": "code",
   "execution_count": 11,
   "metadata": {},
   "outputs": [
    {
     "data": {
      "text/plain": [
       "'number candy'"
      ]
     },
     "execution_count": 11,
     "metadata": {},
     "output_type": "execute_result"
    }
   ],
   "source": [
    "re.sub('\\d', 'number', '7 candy') # 특정 패턴을 만족시키는 문자를 사용자가 정의한 문자로 치환함"
   ]
  },
  {
   "cell_type": "markdown",
   "metadata": {},
   "source": [
    "### Beautiful soup 사용\n",
    " - pip install html5lib 으로 html5lib 를 추가 설치"
   ]
  },
  {
   "cell_type": "code",
   "execution_count": 13,
   "metadata": {
    "collapsed": true
   },
   "outputs": [],
   "source": [
    "from bs4 import BeautifulSoup"
   ]
  },
  {
   "cell_type": "code",
   "execution_count": 26,
   "metadata": {},
   "outputs": [
    {
     "name": "stdout",
     "output_type": "stream",
     "text": [
      " 이 글은 Beautiful soup 라이브러리를 사용하는 방법에 대한 글입니다.   라이브러리를 사용하면 쉽게 HTML 태그를 제거할 수 있습니다.\n"
     ]
    }
   ],
   "source": [
    "string = '<body> 이 글은 Beautiful soup 라이브러리를 사용하는 방법에 대한 글입니다. <br> </br> 라이브러리를 사용하면 쉽게 HTML 태그를 제거할 수 있습니다.</body>'\n",
    "\n",
    "string = BeautifulSoup(string,\"xml\").get_text() # HTML 태그를 제외한 텍스트만 가져온다\n",
    "\n",
    "print(string) # 텍스트 확인"
   ]
  },
  {
   "cell_type": "code",
   "execution_count": null,
   "metadata": {
    "collapsed": true
   },
   "outputs": [],
   "source": []
  }
 ],
 "metadata": {
  "kernelspec": {
   "display_name": "tf2",
   "language": "python",
   "name": "tf2"
  },
  "language_info": {
   "codemirror_mode": {
    "name": "ipython",
    "version": 3
   },
   "file_extension": ".py",
   "mimetype": "text/x-python",
   "name": "python",
   "nbconvert_exporter": "python",
   "pygments_lexer": "ipython3",
   "version": "3.6.12"
  }
 },
 "nbformat": 4,
 "nbformat_minor": 2
}
