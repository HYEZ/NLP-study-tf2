{
 "cells": [
  {
   "cell_type": "markdown",
   "metadata": {},
   "source": [
    "## tensorflow 2.0 에서 바뀐 것들\n",
    "- API 정리\n",
    "    - 흩어져있던 다양한 api들을 하나로 통합, 잘 사용하지 않는 것들 제거\n",
    "- 이거 모드 (eager mode)\n",
    "    - 기존에는 텐서플로우 api를 이용해 그래프를 만든 후 별도로 세션을 통해 해당 그래프를 실행(session.run())\n",
    "    - 2.0 부터는 파이썬과 동일한 이거모드로 실행 => 연산을 구성하면서 바로바로 값을 확인 가능\n",
    "- 전역 메커니즘 제거\n",
    "- 세션을 대신하는 함수\n",
    "- 케라스를 활용한 모델 구축을 권장\n",
    "    - Sequential API\n",
    "    - Functional API\n",
    "    - Functional/Sequential API\n",
    "        - (+) Custom Layers\n",
    "    - Subclassing (Custom Model) - 이 책에서는 주로 이것을 이용"
   ]
  },
  {
   "cell_type": "code",
   "execution_count": null,
   "metadata": {
    "collapsed": true
   },
   "outputs": [],
   "source": []
  },
  {
   "cell_type": "markdown",
   "metadata": {},
   "source": [
    "## Keras Sequential\n",
    "\n",
    "레이어들을 순차적으로 연결하는 스택 구조. 구현 간단하지만 다음 경우 사용 불가\n",
    "- 다중 입력값 모델\n",
    "- 다중 출력값 모델\n",
    "- 고유 층을 활용하는 모델\n",
    "- 데이터 흐름이 순차적이지 않은 모델\n",
    "\n",
    "위 경우는 Functional API를 사용하자"
   ]
  },
  {
   "cell_type": "code",
   "execution_count": 3,
   "metadata": {
    "collapsed": true
   },
   "outputs": [],
   "source": [
    "from tensorflow.keras import layers\n",
    "\n",
    "model = tf.keras.Sequential()\n",
    "model.add(layers.Dense(64, activation='relu'))\n",
    "model.add(layers.Dense(64, activation='relu'))\n",
    "model.add(layers.Dense(10, activation='softmax'))"
   ]
  },
  {
   "cell_type": "markdown",
   "metadata": {},
   "source": [
    "## Keras Functional API\n",
    "\n",
    "입력값을 받는 Input 모듈을 선언해야함. (입력 받는 형태의 shape를 인자로 받음)"
   ]
  },
  {
   "cell_type": "code",
   "execution_count": 4,
   "metadata": {
    "collapsed": true
   },
   "outputs": [],
   "source": [
    "inputs = tf.keras.Input(shape=(32,))\n",
    "x = layers.Dense(64, activation='relu')(inputs)\n",
    "x = layers.Dense(64, activation='relu')(x)\n",
    "prediction = layers.Dense(10, activation='softmax')(x)"
   ]
  },
  {
   "cell_type": "markdown",
   "metadata": {},
   "source": [
    "## Keras Custom Model\n",
    "\n",
    "- 사용자 정의 layer.\n",
    "\n",
    "- 새로운 연산을 하거나 편의를 위해 여러 레이어를 하나로 묶은 레이어를 만들고 싶을 때\n",
    "\n",
    "- tf.kears.layers.Layer 를 상속받음\n",
    "    - 3개의 메소드 정의! (init, build, call)\n"
   ]
  },
  {
   "cell_type": "code",
   "execution_count": 9,
   "metadata": {
    "collapsed": true
   },
   "outputs": [],
   "source": [
    "# __init__, build, call 정의해야함\n",
    "\n",
    "class CustomLayer(layers.Layer):\n",
    "    def __init__(self, hidden_dimension, hidden_dimension2, output_dimension):\n",
    "        # 하이퍼 파라미터 설정\n",
    "        self.hidden_dimension = hidden_dimension\n",
    "        self.hidden_dimension2 = hidden_dimension\n",
    "        self.output_dimension = output_dimension\n",
    "        super(CustomLayer, self).__init__()\n",
    "    \n",
    "    def build(self, input_shape):\n",
    "        # 가중치와 관련된 값들\n",
    "        self.dense_layer1 = layers.Dense(self.hidden_dimension, activation='relu')\n",
    "        self.dense_layer2 = layers.Dense(self.hidden_dimension2, activation='relu')\n",
    "        self.dense_layer3 = layers.Dense(self.output_dimension, activation='softmax')\n",
    "        \n",
    "    def call(self, inputs):\n",
    "        # 해당 층의 로직 정의\n",
    "        x = self.dense_layer1(inputs)\n",
    "        x = self.dense_layer2(x)\n",
    "        \n",
    "        return self.dense_layer3(x)\n"
   ]
  },
  {
   "cell_type": "code",
   "execution_count": 11,
   "metadata": {},
   "outputs": [],
   "source": [
    "# 커스텀 레이어 사용\n",
    "from tensorflow.keras import layers\n",
    "model = tf.keras.Sequential()\n",
    "model.add(CustomLayer(64, 64, 10))"
   ]
  },
  {
   "cell_type": "markdown",
   "metadata": {},
   "source": [
    "## Subclassing(Custom Model)\n",
    "- 가장 자유도가 높음. \n",
    "- 이 책에서 가장 많이 사용\n",
    "- tf.keras.Model 상속\n",
    "    - 2개 메서드 구현 (init, call)"
   ]
  },
  {
   "cell_type": "code",
   "execution_count": 12,
   "metadata": {
    "collapsed": true
   },
   "outputs": [],
   "source": [
    "class MyModel(tf.keras.Model):\n",
    "    def __init__(self, hidden_dimension, hidden_dimension2, output_dimension):\n",
    "        super(MyModel, self).__init__(name='my model')\n",
    "        self.dense_layer1 = layers.Dense(hidden_dimension, activation='relu')\n",
    "        self.dense_layer2 = layers.Dense(hidden_dimension2, activation='relu')\n",
    "        self.dense_layer3 = layers.Dense(output_dimension, activation='softmax')\n",
    "    \n",
    "    def call(self, inputs):\n",
    "        x = self.dense_layer(inputs)\n",
    "        x = self.dense_layer2(x)\n",
    "        return self.dense_layer3(x)\n",
    "        "
   ]
  },
  {
   "cell_type": "markdown",
   "metadata": {},
   "source": [
    "## 모델 학습 (검증, 예측 포함)\n",
    "\n",
    "모델 학습 방법\n",
    "1. 케라스 모델의 내장 API 사용 (model.fit(), model.evaluate(), model.predict())\n",
    "2. 학습, 검증, 예측 등 모든 과정을 GradientTape 객체를 활용해 직접 구현하는 방법\n",
    "\n",
    "앞의 모델 구축에서 만든 모델은 케라스의 모델 객체이기 때문에 여러 메서드가 이미 내장되어있음 \n",
    "\n",
    "__먼저 해야할 일은 손실함수, 옵티마이저, metric 등을 지정해줘야함__"
   ]
  },
  {
   "cell_type": "code",
   "execution_count": 18,
   "metadata": {},
   "outputs": [],
   "source": [
    "model.compile(optimizer=tf.keras.optimizers.Adam(),\n",
    "             loss=tf.keras.losses.CategoricalCrossentropy(),\n",
    "             metrics=[tf.keras.metrics.Accuracy()])\n",
    "\n",
    "## 위와 동일 (문자열 형태로 옵티마이저, 손실함수, 메트릭 지정)\n",
    "\n",
    "model.compile(optimizer='adam',\n",
    "             loss='categorical_crossentropy',\n",
    "             metrics=['accuracy'])"
   ]
  },
  {
   "cell_type": "code",
   "execution_count": null,
   "metadata": {
    "collapsed": true
   },
   "outputs": [],
   "source": [
    "# 정의된 모델 객체를 대상으로 학습, 평가, 예측 메서드를 호출하면 compile로 정의된 값들을 활용해 학습 진행\n",
    "model.fit(x_train,\n",
    "         y_train,\n",
    "         batch_size=64,\n",
    "         epochs=3)\n"
   ]
  },
  {
   "cell_type": "code",
   "execution_count": null,
   "metadata": {
    "collapsed": true
   },
   "outputs": [],
   "source": [
    "# 학습 과정에서 각 에폭마다 검증을 진행하기\n",
    "# evaluate 메서드를 사용해 검증도 가능하지만, 매번 에폭을 호출해야하므로 fit 함수에 검증 데이터를 추가로 넣자\n",
    "model.fit(x_train,\n",
    "         y_train,\n",
    "         batch_size=64,\n",
    "         epochs=3,\n",
    "         validation_data(x_val, y_val))"
   ]
  },
  {
   "cell_type": "code",
   "execution_count": null,
   "metadata": {
    "collapsed": true
   },
   "outputs": [],
   "source": []
  }
 ],
 "metadata": {
  "kernelspec": {
   "display_name": "tf2",
   "language": "python",
   "name": "tf2"
  },
  "language_info": {
   "codemirror_mode": {
    "name": "ipython",
    "version": 3
   },
   "file_extension": ".py",
   "mimetype": "text/x-python",
   "name": "python",
   "nbconvert_exporter": "python",
   "pygments_lexer": "ipython3",
   "version": "3.6.12"
  }
 },
 "nbformat": 4,
 "nbformat_minor": 2
}
